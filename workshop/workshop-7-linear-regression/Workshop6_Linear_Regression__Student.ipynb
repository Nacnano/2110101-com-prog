{
 "cells": [
  {
   "cell_type": "markdown",
   "metadata": {
    "id": "trTxV3XqqKkk"
   },
   "source": [
    "## Simpe Linear Regression (การวิเคราะห์การถดถอยเชิงเส้น)"
   ]
  },
  {
   "cell_type": "code",
   "execution_count": null,
   "metadata": {
    "id": "UuefKeYQqK6r",
    "vscode": {
     "languageId": "python"
    }
   },
   "outputs": [],
   "source": [
    "import numpy as np\n",
    "import matplotlib.pyplot as plt\n",
    "import random\n",
    "import seaborn as sns\n",
    "from tqdm import tnrange, tqdm_notebook\n",
    "from IPython.display import HTML, display"
   ]
  },
  {
   "cell_type": "markdown",
   "metadata": {
    "id": "fFvPzvoPZjVD"
   },
   "source": [
    "ใน workshop นี้เราจะใช้ linear regression ในการทำนายพฤติกรรมของข้อมูล\n",
    "\n",
    "เริ่มต้นเราจะสร้างข้อมูลแบบสุ่มจากสมการเส้นตรง y = mx + c ดังตัวอย่างด้านล่าง\n"
   ]
  },
  {
   "cell_type": "code",
   "execution_count": null,
   "metadata": {
    "id": "upypBvYyZSEy",
    "vscode": {
     "languageId": "python"
    }
   },
   "outputs": [],
   "source": [
    "# กำหนดค่าเริ่มต้นให้ m=7 และ c=-10\n",
    "m = 7\n",
    "c = -10\n",
    "\n",
    "# สร้าง list ว่างของ X_list เพื่อเก็บค่า x และ Y_list เพื่อเก็บค่า y\n",
    "X_list = []\n",
    "Y_list = []\n",
    "\n",
    "# P_tuple สำหรับเก็บคุ๋อันดับ x และ y\n",
    "P_tuple = []\n",
    "\n",
    "# ต้องการสร้างคู่อันดับจำนวน 100 คู่\n",
    "for i in range(0, 100):\n",
    "  \n",
    "  # สุ่มค่า x ในช่วง -5 ถึง 5\n",
    "  x = random.uniform(-5,5)\n",
    "  X_list.append(x)\n",
    "  \n",
    "  # คำนวนค่า y จากค่า x โดยเพิ่มค่า noise เข้าไปเพื่อให้ข้อมูลมี variance มากขึ้น\n",
    "  # ปกติสมการเส้นตรงคือ y = (m*x) + c แต่กเราเพิ่มค่า random (rd) เข้าไปเพื่อให้ข้อมูลมีความไม่แน่นอนปนอยู่ด้วย\n",
    "  rd = random.random()* 10 * random.uniform(-2, 2)\n",
    "  y = (m*x) + c + rd\n",
    "  Y_list.append(y)\n",
    "  \n",
    "  P_tuple.append((x,y))\n",
    "  \n",
    "  print(\"Generate x=\"+str(x)+ \", y=\"+str(y) +\", noise=\"+str(rd))"
   ]
  },
  {
   "cell_type": "code",
   "execution_count": null,
   "metadata": {
    "id": "YV9lTnMGeMR5",
    "vscode": {
     "languageId": "python"
    }
   },
   "outputs": [],
   "source": [
    "# ลอง plot ข้อมูลเพื่อดูการกระจายตัวของข้อมูล x และ y\n",
    "\n",
    "# ถ้าต้องการวาดเส้นด้วยต้องกำหนดค่า line=True\n",
    "def plot_graph(X_list,Y_list,m,c,linspace=[-5,5],n_data=100,line=False): \n",
    "  plt.scatter(X_list, Y_list)\n",
    "  x = np.linspace(linspace[0],linspace[1],n_data)\n",
    "  y = m*x+c\n",
    "  if line: plt.plot(x, y, '-r')\n",
    "  plt.show()\n",
    "  \n",
    "plot_graph(X_list,Y_list,m,c)"
   ]
  },
  {
   "cell_type": "markdown",
   "metadata": {
    "id": "983FQ0iLtsD2"
   },
   "source": [
    "จะเห็นได้ว่าข้อมูลมีลักษณะของการกระจายตัวที่มีรูปแบบเป็นเส้นตรง ซึ่งเราแอบรู้แล้วว่ามันสร้างมาจาก สมการ y = 7x + -10 (จากที่เรากำหนด m=7 และ c=-10) ไว้\n",
    "\n",
    "\n",
    "แต่ในครั้งนี้เราจะสอนให้คอมพิวเตอร์(โมเดล) เรียนรู้ที่จะสร้างสมการเส้นตรงขึ้นมาเองจากข้อมูลคู่อันดับที่เราสร้างขึ้นมา กล่าวคือการที่โมเดลจะสร้างสมการเส้นตรงขึ้นมาได้นั้น \n",
    "\n",
    "\n",
    "เราจะต้องรู้ค่า m และ c โดยที่โมเดลจะต้องประมาณค่า m และ c ที่ทำให้การวางตัวของจุดต่างๆเป็นไปในแนวเดียวกันกับเส้นตรงนั้นมากที่สุด"
   ]
  },
  {
   "cell_type": "markdown",
   "metadata": {
    "id": "piMRR2przqR6"
   },
   "source": [
    "### สร้าง Hypothesis Function\n",
    "\n",
    "1. กำหนด Hypothesis Function หรือโมเดลของเราขึ้นมาดังนี้\n",
    "\n",
    "> h($\\Theta$) = $\\Theta_{1}$x + $\\Theta_{0}$\n",
    "\n",
    "ซึ่งจริงๆแล้ว h($\\Theta$) ก็คือค่า y \n",
    "\n",
    "$\\Theta_{1}$ คือค่า m \n",
    "\n",
    "$\\Theta_{0}$ คือค่า c นั่นเอง\n",
    "\n",
    "มันก็คือสมการเส้นตรงนั่นเองเพียงแต่เขียนให้ดูน่ากลัวเท่านั้นเอง 5555"
   ]
  },
  {
   "cell_type": "code",
   "execution_count": null,
   "metadata": {
    "id": "htMfhUpVcZ7u",
    "vscode": {
     "languageId": "python"
    }
   },
   "outputs": [],
   "source": [
    "# TODO:1-1 จงสร้างฟังก์ชันที่คืนค่า y ของ hypothesis function\n",
    "\n",
    "def hypothesis(theta0, theta1, x):\n",
    "  ### CODE HERE ############\n",
    "  \n",
    "\treturn \n",
    "\n",
    "  ##########################"
   ]
  },
  {
   "cell_type": "code",
   "execution_count": null,
   "metadata": {
    "id": "jowhsOy9e3Nv",
    "vscode": {
     "languageId": "python"
    }
   },
   "outputs": [],
   "source": [
    "### Test code for TODO:1 ###\n",
    "\n",
    "test1 = hypothesis(4.7268, -3.6136, 8.3689)\n",
    "print(test1)\n",
    "\n",
    "#####################################\n",
    "### ผลลัพธ์ที่ได้ควรจะเป็น -25.51505704 ###\n",
    "#####################################"
   ]
  },
  {
   "cell_type": "markdown",
   "metadata": {
    "id": "Gj1bMyj505xz"
   },
   "source": [
    "2. ในขั้นนี้เราจะกำหนดค่าเริ่มต้นให้กับ $\\Theta_{1}$ (ค่า m) และ $\\Theta_{0}$ (ค่า c) แบบสุ่มให้กับ hypothesis function ของเราเพื่อให้โมเดลมีจุดเริ่มต้นที่จะเรียนรู้"
   ]
  },
  {
   "cell_type": "code",
   "execution_count": null,
   "metadata": {
    "id": "ZN5Oy-A617K0",
    "vscode": {
     "languageId": "python"
    }
   },
   "outputs": [],
   "source": [
    "# TODO:1-2 กำหนดค่าเริ่มต้นให้กับ theta0 และ theta1 แบบสุ่ม (random แบบใดก็ได้)\n",
    "\n",
    "### CODE HERE #######################\n",
    "\n",
    "theta0 = \n",
    "theta1 = \n",
    "\n",
    "#####################################\n",
    "\n",
    "print(\"Theta 0 is :\",theta0)\n",
    "print(\"Theta 1 is :\",theta1)\n",
    "\n",
    "plot_graph(X_list,Y_list,theta1,theta0,line=True)\n",
    "\n",
    "#################################################\n",
    "### ผลลัพธ์ที่ได้อาจแตกต่างกันเนื่องจากผลจากการ random ###\n",
    "### แต่ต้องได้กราฟที่มัลักษณะคล้ายกับรูปด้านล่าง ############         \n",
    "#################################################"
   ]
  },
  {
   "cell_type": "markdown",
   "metadata": {
    "id": "zRx8-6ocgnlh"
   },
   "source": [
    "ตัวอย่างผลลัพธ์จากการ plot (จะได้ออกมาหน้าตาคล้ายๆกัน อาจจะไม่เหมือนเป๊ะเพราะเป็นค่าที่ได้จากการ random)\n",
    "\n",
    "<img src='https://github.com/Mixelon-tera/Workshop6_LinearRegression/raw/master/graph_ws6.png' width=400 />"
   ]
  },
  {
   "cell_type": "markdown",
   "metadata": {
    "id": "CCEQTkbP2r0X"
   },
   "source": [
    "จะเห็นว่าเมื่อค่า theta0 และ theta1 ที่ได้จากการสุ่มทำให้โมเดลสร้างสมการเส้นตรงแบบมั่วๆออกมาได้"
   ]
  },
  {
   "cell_type": "markdown",
   "metadata": {
    "id": "p2CjehaB3geZ"
   },
   "source": [
    "### สร้าง Loss Function\n",
    "\n",
    "การทำให้โมเดลสามารถเรียนรู้ที่จะแก้ไขค่า $\\Theta_{1}$ และ $\\Theta_{0}$ เพื่อปรับปรุงให้เส้นตรงมีทิศทางไปในแนวเดียวกันกับข้อมูล จึงมีความจำเป็นที่จะต้องกำหนด loss function หรือ cost function ขึ้นมา ซึ่งค่าที่ได้จากการคำนวน loss function จะเป็นตัวบ่งชี้ว่าสมการเส้นตรงที่โมเดลสร้างขึ้นมานั้นดีหรือห่วยมากน้อยเพียงใด โดยถ้าหากว่าเส้นตรงที่สร้างขึ้นมานั้นมีระยะห่างจากคู่จุดใดๆอยู่มากแสดงว่าไม่ดี ค่า loss ก็จะสูงในทางตรงกันข้ามหากมีระยะห่างน้อยแสดงว่าดี ค่า loss ก็จะมีค่าต่ำ\n",
    "\n",
    "สำหรับ linear regression นั้น loss function ที่มักนิยมใช้คือ MSE (Mean square error) ซึ่งมีสมการดังนี้\n",
    "\n",
    "> MSE = $\\frac{1}{n}\\sum_{t=1}^{n}(y - \\tilde{y})^2$\n",
    "\n",
    "ซึ่ง y คือค่าจริง, $\\tilde{y}$ คือ ค่าที่ได้จากการทำนาย, และ n คือจำนวนข้อมูลทั้งหมด\n",
    "\n",
    "ในขั้นตอนที่ 2 เราได้ plot ข้อมูล x,y และ สมการ x,y ที่ได้จากการสุ่มค่า $\\Theta_{1}$ และ $\\Theta_{0}$ เราสามารถคำนวน error จากสมการข้างต้นได้ดังนี้"
   ]
  },
  {
   "cell_type": "code",
   "execution_count": null,
   "metadata": {
    "id": "NqN_UFpQ6g4z",
    "vscode": {
     "languageId": "python"
    }
   },
   "outputs": [],
   "source": [
    "# TODO:2-1 สร้าง loss function\n",
    "\n",
    "def cal_MSE(y, y_pred):\n",
    "  \n",
    "  ### CODE HERE ##############\n",
    "  \n",
    "  mse = 0\n",
    "  for i in range(len(y)):\n",
    "    \n",
    "    \n",
    "    \n",
    "  \n",
    "  return (mse * 1.0) / len(y)\n",
    "\n",
    "  ############################"
   ]
  },
  {
   "cell_type": "code",
   "execution_count": null,
   "metadata": {
    "id": "jk_8xg8QuHjG",
    "vscode": {
     "languageId": "python"
    }
   },
   "outputs": [],
   "source": [
    "### Test code for TODO:2-1 ###\n",
    "\n",
    "y3 = [1.50, -2.73, 8.62, -12.14, 4.78]\n",
    "y3_pred = [1.73, 1.68, -3.57, -10.92, 3.68]\n",
    "\n",
    "td3 = cal_MSE(y3,y3_pred)\n",
    "print(td3)\n",
    "\n",
    "#####################################\n",
    "### ผลลัพธ์ที่ได้ควรจะเป็น 34.1591 #######\n",
    "#####################################"
   ]
  },
  {
   "cell_type": "markdown",
   "metadata": {
    "id": "bcLgfNh8HABK"
   },
   "source": [
    "คำนวนค่า error เฉลี่ยจาก loss function ดังกล่าวจากข้อมูล X_list และ Y_list ที่เราสร้างขึ้นมาก่อนหน้านี้"
   ]
  },
  {
   "cell_type": "code",
   "execution_count": null,
   "metadata": {
    "id": "IUyt8rDC2pdu",
    "vscode": {
     "languageId": "python"
    }
   },
   "outputs": [],
   "source": [
    "# TODO:2-2 คำนวนค่า loss ของข้อมูลทั้งหมดใน X_list และ Y_list\n",
    "\n",
    "total_loss = 0 \n",
    "\n",
    "### CODE HERE #######################################\n",
    "\n",
    "for x,y in zip(X_list,Y_list):\n",
    "  # คำนวนค่า loss\n",
    "  loss  \n",
    "  # นำค่า loss รวมกับ total_loss ของเดิม\n",
    "  total_loss \n",
    "  \n",
    "  print(\"x=\",x,\"y=\",y,\"loss=\",loss)\n",
    "  \n",
    "#####################################################\n",
    "  \n",
    "print(\"\\nAverage loss =\", total_loss/len(X_list))"
   ]
  },
  {
   "cell_type": "markdown",
   "metadata": {
    "id": "itlEDaWwC_Ih"
   },
   "source": [
    "### การคำนวน Derivatives\n",
    "\n",
    "ค่า loss ที่ได้จาก loss function เป็นค่าที่บอกถึงความผิดพลาดของโมเดลในการประมาณค่าของเส้นตรง เราจะนำค่า loss นี้มาบอกค่าความผิดพลาดของโมเดลปัจจุบัน และควรปรับโมเดลไปในทิศทางใด ซึงสิ่งที่โมเดลจะต้องปรับเราจะเรียกว่า weight ซึ่งในที่นี้คือค่า $\\theta_{0}$ และ $\\theta_{1}$ ที่ปรากฏอยู่ใน hypothesis function\n",
    "\n",
    "ในขั้นตอนของการปรับ weight โมเดลจะนำค่า loss มาคำนวนสิ่งที่เรียกว่า gradient ซึ่งเป็นค่าที่ได้จากการคำนวนหาอนุพันธ์จากค่า loss มาปรับค่า $\\theta_{0}$ และ $\\theta_{1}$\n",
    "\n",
    "<img src='https://miro.medium.com/max/1400/1*91DQMNKmNIdncqx6FsB4Iw.png'  width='500px'/>\n",
    "\n",
    "เป้าหมายของเราคือ จะต้องใช้ gradient ปรับ weight เพื่อให้ค่า loss ของ model มีค่าต่ำที่สุดเท่าที่จะเป็นไปได้"
   ]
  },
  {
   "cell_type": "code",
   "execution_count": null,
   "metadata": {
    "id": "qezEalsU6bVa",
    "vscode": {
     "languageId": "python"
    }
   },
   "outputs": [],
   "source": [
    "# TODO:3 คำนวนค่า derivatives ของ hypothesis function เทียบกับ theta0 และ theta1\n",
    "# ดังนัั้นฟังก์ชันนี้จะคืนค่า 2 ค่านั่นคือค่าที่ได้จากการดิฟด้วย theta0 คือ dtheta0 และ theta1 คือ dtheta1\n",
    "# กำหนดให้ theta1 คือค่า m และ theta0 คือค่า c ในสมการเส้นตรง\n",
    "\n",
    "def derivatives(theta0, theta1, X_list, Y_list):\n",
    "\tdtheta0 = 0\n",
    "\tdtheta1 = 0\n",
    "  \n",
    "  ### CODE HERE #########################################\n",
    "  \n",
    "\tfor (xi, yi) in zip(X_list, Y_list):\n",
    "\t\tdtheta0 \n",
    "\t\tdtheta1 \n",
    "\n",
    "\tdtheta0 /= len(X_list)\n",
    "\tdtheta1 /= len(X_list)\n",
    "\n",
    "  #######################################################\n",
    "  \n",
    "\treturn dtheta0, dtheta1"
   ]
  },
  {
   "cell_type": "code",
   "execution_count": null,
   "metadata": {
    "id": "M6Bned9DoFJB",
    "vscode": {
     "languageId": "python"
    }
   },
   "outputs": [],
   "source": [
    "### Test code for TODO:3 ###\n",
    "\n",
    "dt30 , dt31 = derivatives(3.24, 5.66, [1.45, -2.45, 5.38, -5.49], [10.46, -4.25, -5.83, 13.87])\n",
    "\n",
    "print(dt30, dt31)\n",
    "\n",
    "######################################################\n",
    "### ผลลัพธ์ที่ได้ควรจะเป็น -1.89315 และ 114.6570925 #######\n",
    "######################################################"
   ]
  },
  {
   "cell_type": "markdown",
   "metadata": {
    "id": "xhzSFiFYqasZ"
   },
   "source": [
    "หลังจากเราคำนวน gradient ของ theta1 และ theta0 ได้แล้วขั้นตอนต่อไปคือการปรับค่า theta1 และ theta0 ใน hypothesis function (ปรับ weight) เพื่อให้เส้นตรงของเราค่อยๆปรับไปตามข้อมูล"
   ]
  },
  {
   "cell_type": "code",
   "execution_count": null,
   "metadata": {
    "id": "t6vH4gGmWdld",
    "vscode": {
     "languageId": "python"
    }
   },
   "outputs": [],
   "source": [
    "# TODO:4 สร้างฟังก์ชันสำหรับปรับ weight (ค่า theta1 และ theta0) \n",
    "\n",
    "def updateParameters(theta0, theta1, X_list, Y_list, alpha):\n",
    "  \n",
    "  ### CODE HERE ################################################\n",
    "  \n",
    "  # Step1: คำนวนค่า derivartive ของ theta1 และ theta0 \n",
    "\tdtheta0, dtheta1 = \n",
    " \n",
    "  # Step2: ปรับค่า theta1 และ theta0 ไปตามค่า alpha และค่า gradient \n",
    "\ttheta0 = \n",
    "\ttheta1 = \n",
    "  \n",
    "  ##############################################################\n",
    "  \n",
    "\treturn theta0, theta1"
   ]
  },
  {
   "cell_type": "code",
   "execution_count": null,
   "metadata": {
    "id": "uyy1pkqfsHhT",
    "vscode": {
     "languageId": "python"
    }
   },
   "outputs": [],
   "source": [
    "### Test code for TODO:4 ###\n",
    "\n",
    "tt40, tt41 = updateParameters(3.24, 5.66, [1.45, -2.45, 5.38, -5.49], [10.46, -4.25, -5.83, 13.87], 0.1)\n",
    "\n",
    "print(tt40,tt41)\n",
    "\n",
    "######################################################################\n",
    "### ผลลัพธ์ที่ได้ควรจะเป็น 3.4293150000000003 และ -5.805709250000001     ###\n",
    "######################################################################"
   ]
  },
  {
   "cell_type": "code",
   "execution_count": null,
   "metadata": {
    "id": "01XBxwJIXFud",
    "vscode": {
     "languageId": "python"
    }
   },
   "outputs": [],
   "source": [
    "# TODO:5 สร้างฟังก์ชัน LinearRegression โดยรับค่า X_list และ Y_list \n",
    "# โดยคำนวนหาค่า theta1 และ theta0 ที่ทำให้เส้นตรงวางตัวไปในแนวเดียวกันกับข้อมูล \n",
    "# กล่าวคือปรับจนกว่าจะได้ค่า loss ต่ำสุดเท่าที่เป็นไปได้ => กำหนดให้มีการปรับ weight จำนวน epoch ครั้ง\n",
    "# จากนั้นพล๊อตกราฟแสดงข้อมูลและเส้นตรง (เรียกฟังก์ชัน plot_graph) ในทุกๆ step ของการปรับ weight\n",
    "\n",
    "def LinearRegression(X_list, Y_list, epoch, linspace=[-5,5], n_data=100,alpha=0.0002):\n",
    "  ### CODE HERE #############################################################\n",
    "  \n",
    "  # Step1: กำหนดค่าเริ่มต้นให้กับ theta1 และ theta0 แบบสุ่ม (ใช้ฟังก์ชัน random)\n",
    "\ttheta0 = \n",
    "\ttheta1 = \n",
    "  \n",
    "  # Step2: วนลูปเพื่อใช้ในการปรับ weight ให้กับ model\n",
    "\tfor i in range(0, epoch):\n",
    "    # Step3: ในทุกๆ 100 step ให้ plot graph เพื่อแสดงข้อมูลและเส้นตรงปัจจุบัน \n",
    "\t\tif i % 100 == 0:\n",
    "\t\t\tplot_graph(X_list,Y_list,theta1,theta0,linspace=linspace, n_data=n_data, line=True)\n",
    "    # Step4: ปรับ weight ให้กับค่า theta1 และ theta0  \n",
    "\t\ttheta0, theta1 = \n",
    "  \n",
    "\treturn theta1,theta0"
   ]
  },
  {
   "cell_type": "code",
   "execution_count": null,
   "metadata": {
    "id": "5M-rWggXXNQD",
    "vscode": {
     "languageId": "python"
    }
   },
   "outputs": [],
   "source": [
    "### Test code for TODO:5 ###\n",
    "### ไปเรียก TA มาตรวจ #######\n",
    "\n",
    "new_m, new_c = LinearRegression(X_list, Y_list, epoch=8000, alpha=0.001)"
   ]
  },
  {
   "cell_type": "markdown",
   "metadata": {
    "id": "xm0Euvwhw5nE"
   },
   "source": [
    "ทดลอง print ค่า theta1 และ theta0 ออกมาดูสิจะเห็นได้ว่าค่าที่ได้มีค่าเข้าใกล้ค่าที่เรากำหนดไว้ตอนต้น\n"
   ]
  },
  {
   "cell_type": "code",
   "execution_count": null,
   "metadata": {
    "id": "fenGYDFIXaht",
    "vscode": {
     "languageId": "python"
    }
   },
   "outputs": [],
   "source": [
    "print(new_m, new_c)"
   ]
  },
  {
   "cell_type": "markdown",
   "metadata": {
    "id": "mPes59Myt5IQ"
   },
   "source": [
    "### ทดลองทำนายผลกันเถอะ\n",
    "\n",
    "หลังจากที่เราสร้างเส้นตรงที่เข้ากับข้อมูลที่เราสร้างขึ้นมาได้แล้ว ในหัวข้อนี้เราจะใช้สมการเส้นตรงมาในการทำนายผลลัพธ์ \n",
    "\n",
    "โดยสุ่มหยิบข้อมูลจาก X_list เพื่อมาทำนายผลว่าตรงหรือแตกต่างจากผลลัพธ์ใน Y_list มากน้อยเพียงใด"
   ]
  },
  {
   "cell_type": "code",
   "execution_count": null,
   "metadata": {
    "id": "h5QbESOi1Fc6",
    "vscode": {
     "languageId": "python"
    }
   },
   "outputs": [],
   "source": [
    "# สุ่มหยิบข้อมูลจาก X_list\n",
    "\n",
    "index = random.randint(0,len(X_list)-1)\n",
    "x_rand = X_list[index]\n",
    "\n",
    "# ใช้สมการเส้นตรงที่เราสร้างขึ้นมาทำนายผลค่า Y\n",
    "\n",
    "pred = hypothesis(new_c, new_m, x_rand)\n",
    "\n",
    "print(\"x_rand :\",x_rand,\"pred :\",pred,\" Y_real :\", Y_list[index])"
   ]
  },
  {
   "cell_type": "markdown",
   "metadata": {
    "id": "fmK_VnJc5my_"
   },
   "source": [
    "### ทำนายข้อมูลเงินเดือนจากจำนวนปีที่ทำงาน "
   ]
  },
  {
   "cell_type": "code",
   "execution_count": null,
   "metadata": {
    "id": "YTSMKqnCzZDS",
    "vscode": {
     "languageId": "python"
    }
   },
   "outputs": [],
   "source": [
    "# โหลดข้อมูล Salary_Data.csv [cr.Kaggle] \n",
    "\n",
    "! wget https://raw.githubusercontent.com/Mixelon-tera/Workshop6_LinearRegression/master/Salary_Data.csv"
   ]
  },
  {
   "cell_type": "code",
   "execution_count": null,
   "metadata": {
    "id": "JDEiiwDB55kY",
    "vscode": {
     "languageId": "python"
    }
   },
   "outputs": [],
   "source": [
    "# แปลงข้อมูลใน csv ให้ Year_list เก็บข้อมูลจำนวนปีที่ทำงาน และ Salary_list เก็บข้อมูลเงินเดือน\n",
    "\n",
    "import pandas as pd\n",
    "\n",
    "Year_list = []\n",
    "Salary_list = []\n",
    "\n",
    "df = pd.read_csv(\"Salary_Data.csv\")\n",
    "\n",
    "for i in range(len(df)):\n",
    "  Year_list.append(df['YearsExperience'][i])\n",
    "  Salary_list.append(df['Salary'][i])"
   ]
  },
  {
   "cell_type": "code",
   "execution_count": null,
   "metadata": {
    "id": "t38CzVUV6fIY",
    "vscode": {
     "languageId": "python"
    }
   },
   "outputs": [],
   "source": [
    "# Fit ข้อมูลเข้ากับสมการเส้นตรง\n",
    "my_m, my_c = LinearRegression(Year_list, Salary_list, linspace=[0,12],n_data=len(df),epoch=2000, alpha=0.01)"
   ]
  },
  {
   "cell_type": "code",
   "execution_count": null,
   "metadata": {
    "id": "DEXncqkd7kkZ",
    "vscode": {
     "languageId": "python"
    }
   },
   "outputs": [],
   "source": [
    "print(my_m, my_c)"
   ]
  },
  {
   "cell_type": "markdown",
   "metadata": {
    "id": "5KeLHvhl-r9y"
   },
   "source": [
    "### ทดลองทำนายเงินเดือนจากจำนวนปีที่ทำงาน"
   ]
  },
  {
   "cell_type": "code",
   "execution_count": null,
   "metadata": {
    "id": "mlZKNA8k9qvv",
    "vscode": {
     "languageId": "python"
    }
   },
   "outputs": [],
   "source": [
    "# สุ่มหยิบข้อมูลจาก X_list\n",
    "\n",
    "my_index = random.randint(0,len(Year_list)-1)\n",
    "my_x_rand = Year_list[my_index]\n",
    "\n",
    "# ใช้สมการเส้นตรงที่เราสร้างขึ้นมาทำนายผลค่า Y\n",
    "\n",
    "my_pred = hypothesis(my_c, my_m, my_x_rand)\n",
    "\n",
    "print(\"my_x_rand :\",my_x_rand,\"my_pred :\",my_pred,\" Salary_real :\", Salary_list[my_index])"
   ]
  },
  {
   "cell_type": "markdown",
   "metadata": {
    "id": "SpwFKR1n4LEd"
   },
   "source": [
    "## Multivariate Linear Regression\n",
    "\n",
    "หลังจากที่เราเข้าใจ Simple Linear Regression แล้วในหัวข้อถัดมาเราจะลองทำ Multivariate Linear Regression ซึ่งมีความซับซ้อนกว่า Simple Linear Regression เนื่องจากข้อมูลรับเข้า (input) อาจมีได้มากกว่า 1 feature แต่ยังคงใช้หลักการเดิมในการสร้างสมการเส้นตรง"
   ]
  },
  {
   "cell_type": "markdown",
   "metadata": {
    "id": "EY8ki3i-6HFS"
   },
   "source": [
    "จาก Simple Linear Regression เราใช้ y = (m*x) + c\n",
    "\n",
    "พอเป็น Multivariate Linear Regression เราจะใช้ y = (m1*x1) + (m2*x2) + (m3*x3) + ....(mn*xn) + c\n",
    "\n",
    "จะเห็นได้ว่าจากเดิมที่เราเคยต้องปรับค่า m และ c (สำหรับ 1 input) ถ้ามีเรา (n input)ก็ต้องปรับค่าทั้งหมด (n+1) ค่า"
   ]
  },
  {
   "cell_type": "code",
   "execution_count": null,
   "metadata": {
    "id": "RuMo0sBr_sVm",
    "vscode": {
     "languageId": "python"
    }
   },
   "outputs": [],
   "source": [
    "from sklearn.datasets import load_boston\n",
    "\n",
    "boston_dataset = load_boston()"
   ]
  },
  {
   "cell_type": "code",
   "execution_count": null,
   "metadata": {
    "id": "VevqgI5j7Z6Z",
    "vscode": {
     "languageId": "python"
    }
   },
   "outputs": [],
   "source": [
    "# ข้อมูล boston_dataset เก็บด้วย dict หากเราต้องการทราบว่า dataset นี้มีการเก็บข้อมูลอย่างไร\n",
    "# สามารถทำได้โดยการแสดงค่า key ของ dict นั้น\n",
    "\n",
    "# data => ข้อมูล feature\n",
    "# target => ราคาบ้าน\n",
    "# feature_names => ชื่อ features\n",
    "# รายละเอียดของ feature_name \n",
    "# filename => ชื่อไฟล์\n",
    "\n",
    "print(boston_dataset.keys())"
   ]
  },
  {
   "cell_type": "markdown",
   "metadata": {
    "id": "7grClHmCy52Q"
   },
   "source": [
    "### รายระเอียดของแต่ละ feature\n",
    "\n",
    "**CRIM**: Per capita crime rate by town\n",
    "\n",
    "**ZN**: Proportion of residential land zoned for lots over 25,000 sq. ft\n",
    "\n",
    "**INDUS**: Proportion of non-retail business acres per town\n",
    "\n",
    "**CHAS**: Charles River dummy variable (= 1 if tract bounds river; 0 otherwise)\n",
    "\n",
    "**NOX**: Nitric oxide concentration (parts per 10 million)\n",
    "\n",
    "**RM**: Average number of rooms per dwelling\n",
    "\n",
    "**AGE**: Proportion of owner-occupied units built prior to 1940\n",
    "\n",
    "**DIS**: Weighted distances to five Boston employment centers\n",
    "\n",
    "**RAD**: Index of accessibility to radial highways\n",
    "\n",
    "**TAX**: Full-value property tax rate per $10,000\n",
    "\n",
    "**PTRATIO**: Pupil-teacher ratio by town\n",
    "\n",
    "**B**: 1000(Bk — 0.63)², where Bk is the proportion of [people of African American descent] by town\n",
    "\n",
    "**LSTAT**: Percentage of lower status of the population\n",
    "\n",
    "**MEDV**: Median value of owner-occupied homes in $1000s"
   ]
  },
  {
   "cell_type": "code",
   "execution_count": null,
   "metadata": {
    "id": "JpkfurbRyFUV",
    "vscode": {
     "languageId": "python"
    }
   },
   "outputs": [],
   "source": [
    "print(boston_dataset.filename)"
   ]
  },
  {
   "cell_type": "code",
   "execution_count": null,
   "metadata": {
    "id": "oY4oyRhG76Ie",
    "vscode": {
     "languageId": "python"
    }
   },
   "outputs": [],
   "source": [
    "print(boston_dataset.data.shape)"
   ]
  },
  {
   "cell_type": "markdown",
   "metadata": {
    "id": "oHyoyNSK8Xem"
   },
   "source": [
    "จะเห็นได้ว่ามีข้อมูลทั้งหมด 506 rows และ 13 columns"
   ]
  },
  {
   "cell_type": "code",
   "execution_count": null,
   "metadata": {
    "id": "BdQ6rDBK8Lyu",
    "vscode": {
     "languageId": "python"
    }
   },
   "outputs": [],
   "source": [
    "print(boston_dataset.feature_names)"
   ]
  },
  {
   "cell_type": "code",
   "execution_count": null,
   "metadata": {
    "id": "xhZGopEL8O2l",
    "vscode": {
     "languageId": "python"
    }
   },
   "outputs": [],
   "source": [
    "bos = pd.DataFrame(boston_dataset.data)\n",
    "bos.columns = boston_dataset.feature_names\n",
    "bos['PRICE'] = boston_dataset.target\n",
    "bos.head()"
   ]
  },
  {
   "cell_type": "code",
   "execution_count": null,
   "metadata": {
    "id": "LCsGHuaF8-i8",
    "vscode": {
     "languageId": "python"
    }
   },
   "outputs": [],
   "source": [
    "bos.describe()"
   ]
  },
  {
   "cell_type": "code",
   "execution_count": null,
   "metadata": {
    "id": "Lgko_aSIlpkk",
    "vscode": {
     "languageId": "python"
    }
   },
   "outputs": [],
   "source": [
    "# ข้อมูลที่เราจะใช้ train คือข้อมูล feature และเราจะทำนายผล PRICE \n",
    "# ดังนั้น เราจึงเก็บ feature ไว้ใน X และ ข้อมูลราคาบ้านไว้ใน Y\n",
    "\n",
    "X = bos.drop('PRICE', axis = 1)\n",
    "Y = bos['PRICE']"
   ]
  },
  {
   "cell_type": "code",
   "execution_count": null,
   "metadata": {
    "id": "OYdCNouABY_w",
    "vscode": {
     "languageId": "python"
    }
   },
   "outputs": [],
   "source": [
    "# Using Pearson Correlation\n",
    "\n",
    "plt.figure(figsize=(12,10))\n",
    "cor = bos.corr()\n",
    "sns.heatmap(cor, annot=True, cmap=plt.cm.Oranges)\n",
    "plt.show()"
   ]
  },
  {
   "cell_type": "markdown",
   "metadata": {
    "id": "I8O-7IDvnr4L"
   },
   "source": [
    "การวิเคราะห์ correlation จะช่วยให้ทราบได้ว่า features ใดมีความสำคัญหรือส่งผลต่อค่า PRICE ของเราได้มากที่สุด\n",
    "\n",
    "ในที่นี่เราเลือก feature ที่มี correlation มากกว่า 0.5 ขึ้นไป"
   ]
  },
  {
   "cell_type": "code",
   "execution_count": null,
   "metadata": {
    "id": "n56SNKQVlxmQ",
    "vscode": {
     "languageId": "python"
    }
   },
   "outputs": [],
   "source": [
    "#Correlation with output variable\n",
    "\n",
    "cor_target = abs(cor[\"PRICE\"])\n",
    "\n",
    "#Selecting highly correlated features\n",
    "\n",
    "relevant_features = cor_target[cor_target>0.5]\n",
    "relevant_features"
   ]
  },
  {
   "cell_type": "markdown",
   "metadata": {
    "id": "uOwMgNy9noz9"
   },
   "source": [
    "features => RM, PTRATIO, และ LSTAT เป็น feature ที่มี correlation ต่อ PRICE มากที่สุด\n",
    "\n",
    "ดังนั้นเราจะเลือก 3 features นี้มาใช้ในการทำนายผล"
   ]
  },
  {
   "cell_type": "code",
   "execution_count": null,
   "metadata": {
    "id": "j_H58PFlnT7P",
    "vscode": {
     "languageId": "python"
    }
   },
   "outputs": [],
   "source": [
    "# สร้าง list ว่างของ X_list เพื่อเก็บค่า x และ Y_list เพื่อเก็บค่า y\n",
    "X_bos = []\n",
    "Y_bos = []\n",
    "\n",
    "for i in range(len(X)):\n",
    "  X_bos.append( ( X['RM'][i] , X['PTRATIO'][i] , X['LSTAT'][i] ) )\n",
    "  Y_bos.append( Y[i] )"
   ]
  },
  {
   "cell_type": "code",
   "execution_count": null,
   "metadata": {
    "id": "2JTTH1Jio6jo",
    "vscode": {
     "languageId": "python"
    }
   },
   "outputs": [],
   "source": [
    "X_bos[0]"
   ]
  },
  {
   "cell_type": "markdown",
   "metadata": {
    "id": "ZJHquNrQqSvT"
   },
   "source": [
    "เนื่องจากข้อมูลมีหลาย features ทำให้ไม่สามารถแสดงผลในแกน X-Y ได้\n",
    "\n",
    "ดังนั้นเราจะใช้วิธีแบ่งข้อมูลออกเป็น train-set เพื่อนำมาใช้ในการ fit กับ model \n",
    "\n",
    "และ test-set เพื่อใช้ทดสอบความแม่นยำของโมเดลว่าสามารถทำนายผลได้ตรงตามต้องการหรือไม่"
   ]
  },
  {
   "cell_type": "code",
   "execution_count": null,
   "metadata": {
    "id": "5GxhvBCOvS1M",
    "vscode": {
     "languageId": "python"
    }
   },
   "outputs": [],
   "source": [
    "# แบ่งข้อมูล train-set และ test-set\n",
    "from sklearn.model_selection import train_test_split\n",
    "\n",
    "X_bos_train, X_bos_test, Y_bos_train, Y_bos_test = train_test_split(X_bos, Y_bos, test_size=0.1, random_state=42)\n",
    "\n",
    "X_bos_train, X_bos_val, Y_bos_train, Y_bos_val = train_test_split(X_bos_train, Y_bos_train, test_size=0.25, random_state=42)\n",
    "\n",
    "print(\"X_bos_train shape :\",len(X_bos_train))\n",
    "print(\"X_bos_val shape :\",len(X_bos_val))\n",
    "print(\"X_bos_test shape :\",len(X_bos_test))"
   ]
  },
  {
   "cell_type": "code",
   "execution_count": null,
   "metadata": {
    "id": "fqIPmFnOpsOc",
    "vscode": {
     "languageId": "python"
    }
   },
   "outputs": [],
   "source": [
    "# TODO:6 จงสร้างฟังก์ชันที่คืนค่า y ของ hypothesis function สำหรับ boston house\n",
    "\n",
    "def bos_hypothesis(theta0, theta1, theta2, theta3, x1, x2, x3):\n",
    "  ### CODE HERE ###########################################\n",
    "  \n",
    "\treturn \n",
    "\n",
    "  #########################################################"
   ]
  },
  {
   "cell_type": "code",
   "execution_count": null,
   "metadata": {
    "id": "lK7fnqMrrAtd",
    "vscode": {
     "languageId": "python"
    }
   },
   "outputs": [],
   "source": [
    "### Test code for TODO:6 ###\n",
    "\n",
    "ttd6 = bos_hypothesis(3.125,-1.643,0.176,12.346,10.423,-25.646,3.947)\n",
    "print(ttd6)\n",
    "\n",
    "######################################\n",
    "### ผลลัพธ์ที่ได้ควรจะเป็น 30.215977 #######\n",
    "######################################\n"
   ]
  },
  {
   "cell_type": "markdown",
   "metadata": {
    "id": "ZdZF7GUrrTCf"
   },
   "source": [
    "ในกรณีของ loss function เราสามารถที่จะใช้ฟังก์ชั่นเดิมได้เนื่องจากโมเดลของเราทำนายค่าออกมา 1 ค่าเหมือนตัวอย่างก่อน"
   ]
  },
  {
   "cell_type": "code",
   "execution_count": null,
   "metadata": {
    "id": "UDlUt8XtrJGp",
    "vscode": {
     "languageId": "python"
    }
   },
   "outputs": [],
   "source": [
    "# TODO:7 จงเติมฟังก์ชัน bos_derivatives ให้สมบูรณ์\n",
    "\n",
    "def bos_derivatives(theta0, theta1, theta2, theta3, X_bos, Y_bos):\n",
    "  dtheta0 = 0\n",
    "  dtheta1 = 0\n",
    "  dtheta2 = 0\n",
    "  dtheta3 = 0\n",
    "  \n",
    "  ### CODE HERE #########################################\n",
    "  \n",
    "  for (xi, yi) in zip(X_bos, Y_bos):\n",
    "    dtheta0  \n",
    "    dtheta1 \n",
    "    dtheta2\n",
    "    dtheta3 \n",
    "    \n",
    "  \n",
    "\n",
    "\n",
    "\n",
    "\n",
    "\n",
    "  #######################################################\n",
    "  \n",
    "  return dtheta0, dtheta1, dtheta2, dtheta3"
   ]
  },
  {
   "cell_type": "code",
   "execution_count": null,
   "metadata": {
    "id": "rXgyKO4rtIUE",
    "vscode": {
     "languageId": "python"
    }
   },
   "outputs": [],
   "source": [
    "# TODO:8 จงเติมฟังก์ชัน bos_updateParameters ให้สมบูรณ์\n",
    "\n",
    "def bos_updateParameters(theta0, theta1, theta2, theta3, X_bos, Y_bos, alpha):\n",
    "  \n",
    "  ### CODE HERE ################################################\n",
    "  \n",
    "  # Step1: คำนวนค่า derivartive ของ theta0, theta1, theta2, และ theta3\n",
    "  dtheta0, dtheta1, dtheta2, dtheta3 = \n",
    "  # Step2: ปรับค่า theta0, theta1, theta2, theta3 ไปตามค่า alpha และค่า gradient \n",
    "  \n",
    "\n",
    "\n",
    "\n",
    "  \n",
    "  \n",
    "  ##############################################################\n",
    "  \n",
    "  return theta0, theta1, theta2, theta3"
   ]
  },
  {
   "cell_type": "code",
   "execution_count": null,
   "metadata": {
    "id": "ugru1NDeuzHN",
    "vscode": {
     "languageId": "python"
    }
   },
   "outputs": [],
   "source": [
    "# TODO:9 จงเติมฟังก์ชัน bos_LinearRegression ให้สมบูรณ์\n",
    "\n",
    "def bos_LinearRegression(X_bos_train, Y_bos_train, X_bos_val, Y_bos_val, epoch, alpha=0.0002):\n",
    "  \n",
    "  # Step1: กำหนดค่าเริ่มต้นให้กับ theta0, theta1, theta2, และ theta3 แบบสุ่ม (ใช้ฟังก์ชัน random)\n",
    "  theta0 = np.random.rand()\n",
    "  theta1 = np.random.rand()\n",
    "  theta2 = np.random.rand()\n",
    "  theta3 = np.random.rand()\n",
    "\n",
    "  ### CODE HERE ###########################################################################################################\n",
    "  \n",
    "  # Step2: วนลูปเพื่อใช้ในการปรับ weight ให้กับ model\n",
    "  # For loop ตามจำนวน epoch \n",
    "  for i in tnrange(0, epoch):\n",
    "    y_pred_train = []\n",
    "    \n",
    "    # For loop ใน training data\n",
    "    for j in range(len(X_bos_train)):\n",
    "\n",
    "      # Step3: ในทุกๆ step ให้แสดงผลค่า loss ของข้อมูล train และ 100 step ให้แสดงผลค่า loss ของข้อมูล test\n",
    "      y_pred = # เติมตรงนี้ #\n",
    "      y_pred_train.append(y_pred)\n",
    "      \n",
    "# Step4: ปรับ weight ให้กับค่า theta3 theta2 theta1 และ theta0  \n",
    "      # เติมตรงนี้ การปรับค่า weight ควรจะปรับใน loop ไหนดี #\n",
    "      \n",
    "    # Step5: แสดงผลค่า loss\n",
    "    loss_train = cal_MSE(Y_bos_train, y_pred_train)\n",
    "      \n",
    "    print(\"Training loss :\",loss_train)\n",
    "    \n",
    "    if i % 100 == 0:\n",
    "      y_pred_val = []\n",
    "      \n",
    "      for k in range(len(X_bos_val)):\n",
    "        y_pred = # เติมตรงนี้ #\n",
    "        y_pred_val.append(y_pred)\n",
    "      \n",
    "      # Step6: คำนวนค่า loss\n",
    "      # เติมตรงนี้ #\n",
    "        \n",
    "      print(\"Validation loss :\",loss_val)\n",
    "  #########################################################################################################################\n",
    "\n",
    "  return theta0, theta1, theta2, theta3"
   ]
  },
  {
   "cell_type": "code",
   "execution_count": null,
   "metadata": {
    "id": "ZQ_BfXAdy92R",
    "vscode": {
     "languageId": "python"
    }
   },
   "outputs": [],
   "source": [
    "bos_theta0, bos_theta1, bos_theta2, bos_theta3 = bos_LinearRegression(X_bos_train, Y_bos_train, X_bos_val, Y_bos_val, epoch=300, alpha=0.001)"
   ]
  },
  {
   "cell_type": "markdown",
   "metadata": {
    "id": "0e9C2ZdatSrh"
   },
   "source": [
    "ทีนี้ลองมานำโมเดลมาใช้ทำนายผลกับ test data ดูสิว่ามีแม่นยำหรือไม่"
   ]
  },
  {
   "cell_type": "code",
   "execution_count": null,
   "metadata": {
    "id": "rlM-qmBbzZSC",
    "vscode": {
     "languageId": "python"
    }
   },
   "outputs": [],
   "source": [
    "# สุ่มหยิบข้อมูลจาก X_list\n",
    "\n",
    "bos_index = random.randint(0,len(X_bos_test)-1)\n",
    "bos_x_rand = X_bos_test[bos_index]\n",
    "\n",
    "# ใช้สมการเส้นตรงที่เราสร้างขึ้นมาทำนายผลค่า Y\n",
    "bos_pred = bos_hypothesis(bos_theta0, bos_theta1, bos_theta2, bos_theta3, bos_x_rand[0], bos_x_rand[1], bos_x_rand[2])\n",
    "\n",
    "print(\"bos_x_rand :\",bos_x_rand,\"bos_pred :\",bos_pred,\" bos_real :\", Y_bos_test[bos_index])"
   ]
  },
  {
   "cell_type": "code",
   "execution_count": null,
   "metadata": {
    "id": "_yLav7IbBTCn",
    "vscode": {
     "languageId": "python"
    }
   },
   "outputs": [],
   "source": [
    "# สร้าง list ขึ้นมาเพื่อเก็บผลการทำนายในการนำไปใช้ในการเปรียบเทียบผลการทำนายและค่าจริิงของผลลัพธ์\n",
    "bos_pred_plot = []\n",
    "\n",
    "for i in range(len(X_bos_test)):\n",
    "  bos_pred = bos_hypothesis(bos_theta0, bos_theta1, bos_theta2, bos_theta3, X_bos_test[i][0], X_bos_test[i][1], X_bos_test[i][2])\n",
    "  bos_pred_plot.append(abs(bos_pred-Y_bos_test[i]))\n",
    "\n",
    "counts, bins = np.histogram(bos_pred_plot)\n",
    "plt.hist(bins[:-1], bins, weights=counts)\n",
    "plt.xlabel('Margin error')\n",
    "plt.ylabel('Number of sample')\n",
    "plt.show()"
   ]
  },
  {
   "cell_type": "code",
   "execution_count": null,
   "metadata": {
    "id": "5QGysjBcEZgp",
    "vscode": {
     "languageId": "python"
    }
   },
   "outputs": [],
   "source": []
  }
 ],
 "metadata": {
  "colab": {
   "collapsed_sections": [],
   "name": "Workshop6_Linear_Regression__Student.ipynb",
   "provenance": []
  },
  "kernelspec": {
   "display_name": "Python 3",
   "name": "python3"
  }
 },
 "nbformat": 4,
 "nbformat_minor": 0
}
