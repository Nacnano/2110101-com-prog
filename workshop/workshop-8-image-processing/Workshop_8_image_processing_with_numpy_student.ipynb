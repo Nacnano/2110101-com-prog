{
 "cells": [
  {
   "cell_type": "markdown",
   "metadata": {
    "id": "SQdhIFXBClYt"
   },
   "source": [
    "# Workshop 8 : Image processing with Numpy"
   ]
  },
  {
   "cell_type": "markdown",
   "metadata": {
    "id": "99d5w-x3ClYz"
   },
   "source": [
    "ในภาษา Python มี library สำหรับจัดการรูปภาพมากมายเช่น [OpenCV](http://docs.opencv.org/3.0-beta/doc/py_tutorials/py_tutorials.html), [SciKit-Image](http://scikit-image.org/) และ [Pillow](http://python-pillow.org/) เป็นต้น ซึ่งจะช่วยให้เราจัดการกับรูปภาพในงานยากๆได้เป็นอย่างดี \n",
    "\n",
    "อย่างไรก็ตาม เป้าหมายของเวิร์กชอปนี้ต้องการให้นิสิตเข้าใจพื้นฐานเทคนิคในการทำ image processing ด้วยเหตุนี้เราจึงเลือกใช้ numpy ในการจัดการกับรูปภาพเพราะเป็นเรื่องนิสิตได้ศึกษามาแล้วในชั้นเรียน และใช้ matplotlib ในการนำเข้าและแสดงผลรูปภาพ"
   ]
  },
  {
   "cell_type": "code",
   "execution_count": null,
   "metadata": {
    "id": "05Lj3xSjClY2"
   },
   "outputs": [],
   "source": [
    "import numpy as np\n",
    "import matplotlib.pylab as plt"
   ]
  },
  {
   "cell_type": "code",
   "execution_count": null,
   "metadata": {
    "id": "5Pf68ACtfI9S"
   },
   "outputs": [],
   "source": [
    "# Download File\n",
    "\n",
    "!wget \"https://github.com/5730279821-TA/Workshop4_Resource/raw/master/Ws4_resource.zip\""
   ]
  },
  {
   "cell_type": "code",
   "execution_count": null,
   "metadata": {
    "id": "YEChQQc2fTRP"
   },
   "outputs": [],
   "source": [
    "# Extract File\n",
    "\n",
    "import zipfile\n",
    "with zipfile.ZipFile(\"Ws4_resource.zip\",\"r\") as zip_ref:\n",
    "    zip_ref.extractall(\"\")"
   ]
  },
  {
   "cell_type": "markdown",
   "metadata": {
    "id": "gNaAck9dClZA"
   },
   "source": [
    "## Read and Crop"
   ]
  },
  {
   "cell_type": "markdown",
   "metadata": {
    "id": "cNWQ8SZBClZC"
   },
   "source": [
    "โหลดรูปภาพ \"elon_musk.jpg\" "
   ]
  },
  {
   "cell_type": "code",
   "execution_count": null,
   "metadata": {
    "id": "Z-Uz_VMPClZE"
   },
   "outputs": [],
   "source": [
    "im = plt.imread(\"elon_musk.jpg\")\n",
    "im.shape"
   ]
  },
  {
   "cell_type": "markdown",
   "metadata": {
    "id": "1Fyw6LyrClZO"
   },
   "source": [
    "จะเห็นได้ว่าภาพได้ถูกโหลดเข้ามาใน array ที่มี dimension เป็น 451 x 300 x 3\n",
    "\n",
    "ซึ่ง 2 ค่าแรก (451 และ 300) แสดงถึง pixel ในแกน Y (ความสูง) และ X(ความกว้าง) ตามลำดับ และค่าสุดท้าย (3) แสดงถึงค่าสี RGB ในภาพนั้น \n",
    "\n",
    "ต่อมาเราจะมาดูว่าหน้าตาของภาพนั้นเป็นอย่างไร"
   ]
  },
  {
   "cell_type": "code",
   "execution_count": null,
   "metadata": {
    "id": "Iw5VNFLcx8Z9"
   },
   "outputs": [],
   "source": [
    "plt.figure(num=None, figsize=(5, 4))\n",
    "plt.imshow(im)\n",
    "plt.axis('on')\n",
    "plt.show()"
   ]
  },
  {
   "cell_type": "markdown",
   "metadata": {
    "id": "gTZVjHglClZZ"
   },
   "source": [
    "ภาพข้างต้นเป็นรูปของ Elon Musk ซีอีโอของบริษัท SpaceX \n",
    "\n",
    "ถ้าหากว่าเราต้องการแค่บางส่วนของภาพของอย่างเช่นต้องการแค่ \"ใบหน้าของ Elon Musk\" \n",
    "\n",
    "เราสามารถ crop ภาพที่ต้องการได้ โดยใช้ numpy ในการตัดภาพบางส่วนในอาเรย์ของภาพ"
   ]
  },
  {
   "cell_type": "markdown",
   "metadata": {
    "id": "HDfsJj7nx8aB"
   },
   "source": [
    "<img src=\"https://www.picz.in.th/images/2018/10/07/hZL4of.png\"  width=\"200\">"
   ]
  },
  {
   "cell_type": "markdown",
   "metadata": {
    "id": "N5fYk8dOLVYt"
   },
   "source": [
    "Tip : หากต้องการเอาตารางออกจากภาพสามารถแทรกคำสั่ง plt.axis(\"off\") ก่อน plt.show() จะทำให้ตารางหายไป"
   ]
  },
  {
   "cell_type": "code",
   "execution_count": null,
   "metadata": {
    "id": "EhjfsQ78ClZc"
   },
   "outputs": [],
   "source": [
    "### TO DO 1 : Crop เอาเฉพาะหน้าของ Elon Musk เก็บไว้ในตัวแปร im2\n",
    "### แก้ไข [ซ้าย:ขวา,บน:ล่าง,:] ดูสิ\n",
    "\n",
    "### CODE HERE ###########################\n",
    "\n",
    "im2 = im[50: 400, 150:450, :]\n",
    "\n",
    "#########################################\n",
    "\n",
    "plt.figure(num=None, figsize=(5, 4))\n",
    "plt.imshow(im2)\n",
    "plt.show()"
   ]
  },
  {
   "cell_type": "markdown",
   "metadata": {
    "id": "kK41JzhbClZh"
   },
   "source": [
    "## Colours\n",
    "\n",
    "แต่ละ pixel ของภาพจะถูกแสดงด้วยตัวเลขจำนวนเต็ม 3 ตัว ซึ่งก็คือค่าของ RGB ที่ผสมกันจนเกิดเป็นสีนั้นๆของภาพขึ้นมา \n",
    "\n",
    "ต่อมาเราจะแยกองค์ประกอบของสีโดยการดึง slice ของสีนั้นๆในอาเรย์ของภาพ\n",
    "\n",
    "<img src=\"https://www.picz.in.th/images/2018/10/07/hZHmxJ.png\"  width=\"800\">"
   ]
  },
  {
   "cell_type": "code",
   "execution_count": null,
   "metadata": {
    "id": "Rj-FmMu_ClZk"
   },
   "outputs": [],
   "source": [
    "fig, axs = plt.subplots(nrows=1, ncols=3, figsize=(15,5))\n",
    "\n",
    "### TO DO 2 : จงแยก Channel สีแบ่งเป็น RGB ตามลำดับ (ตามภาพตัวอย่างด้านบน)\n",
    "\n",
    "# c คือ index และ ax คือ AxesSubplot\n",
    "for c, ax in zip(range(3), axs):\n",
    "    tmp_im = np.zeros(im.shape, dtype=\"uint8\")\n",
    "    \n",
    "    ### CODE HERE ###########################\n",
    "    \n",
    "    tmp_im[:, :, c] = im[:, :, c]\n",
    "    \n",
    "    #########################################\n",
    "    \n",
    "    ax.axis('off')\n",
    "    ax.imshow(tmp_im)"
   ]
  },
  {
   "cell_type": "markdown",
   "metadata": {
    "id": "uMYX-siIClaS"
   },
   "source": [
    "## To Greyscale\n",
    "\n",
    "อีกหัวข้อสำคัญสำหรับเรื่องสีนั่นคือการแปลงภาพ RGB ให้เป็น Greyscale ซึ่งสามารถทำได้หลากหลายวิธีแต่วิธีที่ตรงไปตรงมาที่สุด \n",
    "\n",
    "คือการเฉลี่ยค่าสี RGB ของภาพโดยการคูณด้วย weight  ค่าคงที่ BT.601 standard ที่ใช้ในการคำนวนค่าความสว่างของสัญญาณ RGB \n",
    "\n",
    "[0.2989, 0.5870, 0.1140] เมื่อนำค่าเหล่านี้ไปคูณในแต่ละ pixel ของสีจะได้ภาพ Greyscale ออกมา "
   ]
  },
  {
   "cell_type": "markdown",
   "metadata": {
    "id": "o8guPpUNx8aI"
   },
   "source": [
    "<img src=\"https://www.img.in.th/images/f8df6dd73213808cab4ab4b9d58f38f4.png\"  width=\"300\">"
   ]
  },
  {
   "cell_type": "code",
   "execution_count": null,
   "metadata": {
    "id": "4DF4GNLyx8aJ"
   },
   "outputs": [],
   "source": [
    "### TO DO 3-1 : แก้ไขฟังก์ชันให้สามารถแปลงภาพ RGB ให้เป็น Greyscale โดยวิธีการเฉลี่ยค่าสี (ค่าสีบวกกันหาร 3)\n",
    "\n",
    "def to_grayscale_avg(im):\n",
    "    ### CODE HERE ###########################\n",
    "    grey_value = im.sum(axis=2)/3\n",
    "    \n",
    "    #########################################\n",
    "    return grey_value"
   ]
  },
  {
   "cell_type": "code",
   "execution_count": null,
   "metadata": {
    "id": "kRrY3Szyx8aL"
   },
   "outputs": [],
   "source": [
    "img_avg = to_grayscale_avg(im/255.0)\n",
    "\n",
    "plt.figure(num=None, figsize=(10, 8))\n",
    "plt.imshow(img_avg, cmap=plt.get_cmap('gray'))\n",
    "plt.axis('off')\n",
    "plt.show()"
   ]
  },
  {
   "cell_type": "code",
   "execution_count": null,
   "metadata": {
    "id": "IqzrK4OcClaU"
   },
   "outputs": [],
   "source": [
    "### TO DO 3-2 : แก้ไขฟังก์ชันให้สามารถแปลงภาพ RGB ให้เป็น Greyscale โดยการคูณค่าคงที่\n",
    "### Hint : ใช้ np.dot จะได้เร็วๆ\n",
    "\n",
    "def to_grayscale_w_const(im, weights = [0.2989, 0.5870, 0.1140]):\n",
    "  \n",
    "    ### CODE HERE ###########################\n",
    "    grey_value = im.dot(np.array(weights))\n",
    "    return grey_value\n",
    "  \n",
    "    #########################################"
   ]
  },
  {
   "cell_type": "code",
   "execution_count": null,
   "metadata": {
    "id": "Md5ngAk2ClaZ"
   },
   "outputs": [],
   "source": [
    "img_gray_w_const = to_grayscale_w_const(im/255.0)\n",
    "\n",
    "plt.figure(num=None, figsize=(10, 8))\n",
    "plt.imshow(img_gray_w_const, cmap=plt.get_cmap('gray'))\n",
    "plt.axis('off')\n",
    "plt.show()"
   ]
  },
  {
   "cell_type": "markdown",
   "metadata": {
    "id": "C2qzjnzsJPuj"
   },
   "source": [
    "## Image Negatives\n",
    "\n",
    "เมื่อกลับค่าสีจากค่า \"บวก\" เป็นค่า \"ลบ\" บนภาพขาว-ดำ (greyscale) จะทำให้สีขาวและดำกลับกัน"
   ]
  },
  {
   "cell_type": "code",
   "execution_count": null,
   "metadata": {
    "id": "gWqTK68BJUyY"
   },
   "outputs": [],
   "source": [
    "img_neg = 1-(img_gray_w_const)\n",
    "\n",
    "plt.figure(num=None, figsize=(10, 8))\n",
    "plt.imshow(img_neg, cmap=plt.get_cmap('gray'))\n",
    "plt.axis('off')\n",
    "plt.show()"
   ]
  },
  {
   "cell_type": "markdown",
   "metadata": {
    "id": "JGi4lkNox8aV"
   },
   "source": [
    "## Sepia Image\n",
    "\n",
    "จงเขียนฟังก์ชันเพื่อแปลงรูปภาพจากสีให้เป็นรูปสี sepia ด้วยสูตร\n",
    "\n",
    "R' = np.minimum(1.0, 0.393R + 0.769G + 0.189B)\n",
    "\n",
    "G' = np.minimum(1.0, 0.349R + 0.686G + 0.168B)\n",
    "\n",
    "B' = np.minimum(1.0, 0.272R + 0.534G + 0.131B)\n",
    "\n",
    "จะได้ภาพตามด้านล่าง\n",
    "\n",
    "<img src=\"https://www.picz.in.th/images/2018/10/11/kCVXa2.png\" width=\"300\">"
   ]
  },
  {
   "cell_type": "code",
   "execution_count": null,
   "metadata": {
    "id": "jlL-9x7Tx8aW"
   },
   "outputs": [],
   "source": [
    "def sepia(im):\n",
    "    ### TO DO 4 แปลงภาพสีให้เป็นภาพ Sepia ด้วยสมการข้างต้น ##########################\n",
    "    \n",
    "    ### CODE HERE ##############################################################\n",
    "    img = np.array([np.minimum(1.0, im.dot([0.393, 0.769, 0.189])).T, np.minimum(1.0, im.dot([0.349, 0.686, 0.168])).T, np.minimum(1.0, im.dot([0.272, 0.534, 0.131])).T]).T\n",
    "    return img\n",
    "    #############################################################################"
   ]
  },
  {
   "cell_type": "code",
   "execution_count": null,
   "metadata": {
    "id": "0KITmIWxx8aZ"
   },
   "outputs": [],
   "source": [
    "img_sepia = sepia(im/255.0)\n",
    "\n",
    "plt.figure(num=None, figsize=(10, 8))\n",
    "plt.imshow(img_sepia)\n",
    "plt.axis('off')\n",
    "plt.show()"
   ]
  },
  {
   "cell_type": "markdown",
   "metadata": {
    "id": "tn8onpdPClaf"
   },
   "source": [
    "## Convoluted\n",
    "\n",
    "อีกหนึ่ง operations ที่สามารถนำมาใช้กับรูปภาพได้นั่นคือการ convolution ซึ่งนิยามโดย\n",
    "\n",
    "<img src=\"https://wikimedia.org/api/rest_v1/media/math/render/svg/cfa8253ed8f2f40508e45d0214d7e7d2e77a5c47\">\n",
    "\n",
    "โดยทั่วไปแล้วเราจะแทนที่แต่ละ pixel ด้วย weighted sum ของ pixels ข้างๆ , convolutions นั้นใช้เวลาในการทำนานพอสมควร โดยเฉพาะภาพที่มีขนาดใหญ่ \n",
    "\n",
    "มาเริ่มกันเลย !!!"
   ]
  },
  {
   "cell_type": "code",
   "execution_count": null,
   "metadata": {
    "id": "r583hvSAx8ab"
   },
   "outputs": [],
   "source": [
    "# เพื่อให้ง่ายเราจะทำ Convoluted บนภาพขาว-ดำ (1 channel)\n",
    "### TO DO 5 : แก้ไขฟังก์ชัน convolute ให้สามารถใช้งานได้อย่างถูกต้อง ######################\n",
    "### Hint : http://www.youtube.com/watch?v=848P9VbtfjQ&t=15m48s \n",
    "\n",
    "def convolute(img,kernel): # assume kernel is a 5x5 matrix\n",
    "    ims = []\n",
    "    result = np.ndarray(img.shape)\n",
    "    for r in range(img.shape[0]-kernel.shape[0]-1):\n",
    "        for c in range(img.shape[1]-kernel.shape[1]-1):\n",
    "          \n",
    "        ### CODE HERE ############################################################\n",
    "            result[r+1, c+1] = np.minimum(1, np.maximum(0, np.sum(img[r:r+kernel.shape[0], c:c+kernel.shape[1]].dot(kernel))))\n",
    "                \n",
    "\n",
    "          \n",
    "            \n",
    "        ##########################################################################\n",
    "    return result "
   ]
  },
  {
   "cell_type": "code",
   "execution_count": null,
   "metadata": {
    "id": "XbqsnEWpx8ad"
   },
   "outputs": [],
   "source": [
    "def blur(img):\n",
    "    blur_matrix = np.array([[1/25, 1/25, 1/25, 1/25, 1/25],\n",
    "                            [1/25, 1/25, 1/25, 1/25, 1/25],\n",
    "                            [1/25, 1/25, 1/25, 1/25, 1/25],\n",
    "                            [1/25, 1/25, 1/25, 1/25, 1/25],\n",
    "                            [1/25, 1/25, 1/25, 1/25, 1/25]])\n",
    "    img = convolute(img, blur_matrix)\n",
    "    return img"
   ]
  },
  {
   "cell_type": "code",
   "execution_count": null,
   "metadata": {
    "id": "t3wF9QWLyupA"
   },
   "outputs": [],
   "source": [
    "blur_image = blur(img_gray_w_const)\n",
    "\n",
    "plt.figure(num=None, figsize=(20, 16))\n",
    "plt.subplot(221)\n",
    "plt.axis('off')\n",
    "plt.imshow(img_gray_w_const, cmap=plt.get_cmap('gray'))\n",
    "\n",
    "plt.subplot(222)\n",
    "plt.axis('off')\n",
    "plt.imshow(blur_image, cmap=plt.get_cmap('gray'))\n",
    "plt.show()"
   ]
  },
  {
   "cell_type": "markdown",
   "metadata": {
    "id": "aM4kXA4c7v5B"
   },
   "source": [
    "#### Test01\n",
    "\n",
    "ลองเปลี่ยน kernel เป็น \n",
    "np.array( [ [1, 1, 1],  [1,-8, 1], [1, 1, 1] ] ) ดูสิ"
   ]
  },
  {
   "cell_type": "code",
   "execution_count": null,
   "metadata": {
    "id": "YvjIWWz1x8ai"
   },
   "outputs": [],
   "source": [
    "def test01(img):\n",
    "    blur_matrix = np.array([[1, 1, 1],\n",
    "                            [1,-8, 1],\n",
    "                            [1, 1, 1]])\n",
    "    img = convolute(img, blur_matrix)\n",
    "    return img\n",
    "\n",
    "plt.figure(num=None, figsize=(10, 8))\n",
    "plt.imshow(test01(im/255.0), cmap=plt.get_cmap('gray'))\n",
    "plt.axis('off')\n",
    "plt.show()"
   ]
  },
  {
   "cell_type": "markdown",
   "metadata": {
    "id": "igkCtyNh8GOb"
   },
   "source": [
    "#### Test02\n",
    "\n",
    "ลองใช้ kernelจาก test01 แต่กลับ input ภาพให้เป็น - ดูสิ\n",
    "\n",
    "ใส่ -img ก่อนเรียก function convolute"
   ]
  },
  {
   "cell_type": "code",
   "execution_count": null,
   "metadata": {
    "id": "mK9dTLpvx8ak"
   },
   "outputs": [],
   "source": [
    "def test02(img):\n",
    "    blur_matrix = np.array([[1, 1, 1],\n",
    "                            [1,-8, 1],\n",
    "                            [1, 1, 1]])\n",
    "    img = convolute(-img, blur_matrix)\n",
    "    return img\n",
    "\n",
    "plt.figure(num=None, figsize=(10, 8))\n",
    "plt.imshow(test02(im/255.0), cmap=plt.get_cmap('gray'))\n",
    "plt.axis('off')\n",
    "plt.show()"
   ]
  },
  {
   "cell_type": "markdown",
   "metadata": {
    "id": "kEZjfnMMqv7a"
   },
   "source": [
    "ลองใช้ Library scipy ในการทำ convolve2d กับภาพสี"
   ]
  },
  {
   "cell_type": "code",
   "execution_count": null,
   "metadata": {
    "id": "9mp2DNvRClao"
   },
   "outputs": [],
   "source": [
    "from scipy.signal import convolve2d\n",
    "\n",
    "def convolve_all_colours(im, window):\n",
    "    \"\"\"\n",
    "    Convolves im with window, over all three colour channels\n",
    "    \"\"\"\n",
    "    ims = []\n",
    "    for d in range(3):\n",
    "        im_conv_d = convolve2d(im[:,:,d], window, mode=\"same\", boundary=\"symm\")\n",
    "        ims.append(im_conv_d)\n",
    "\n",
    "    im_conv = np.stack(ims, axis=2).astype(\"uint8\")\n",
    "    return im_conv\n",
    "\n",
    "### TO DO 6 : สร้าง window size ##########################################\n",
    "### สร้าง windows size ขนาด 20 x 20 ที่แต่ละpixels มีค่าเท่ากับ (1/ขนาดทั้งหมด)\n",
    "### จากนั้นเก็บไว้ในตัวแปร window เพื่อใช้ในการ convoluted\n",
    "\n",
    "### CODE HERE ###########################################################\n",
    "\n",
    "window = np.ndarray((20, 20))\n",
    "window.fill(1/400.0)\n",
    "\n",
    "\n",
    "#########################################################################\n",
    "\n",
    "plt.figure(num=None, figsize=(10, 8))\n",
    "plt.axis('off')\n",
    "plt.imshow(convolve_all_colours(im, window))"
   ]
  },
  {
   "cell_type": "markdown",
   "metadata": {
    "id": "SqsUeNANTT7I"
   },
   "source": [
    "## Image Scailing\n",
    "\n",
    "### Scale-Down ( / 2 )\n",
    "\n",
    "เราจะทำการลดขนาดภาพลงครึ่งนึงโดยการ interpolation (เฉลี่ยค่าสีทั้ง 4 จุด ให้เหลือเพียงค่าเดียว)\n",
    "\n",
    "<img src=\"https://www.img.in.th/images/2cd82e812ec82ee08303dea393e79615.gif\" width=\"300\" >"
   ]
  },
  {
   "cell_type": "code",
   "execution_count": null,
   "metadata": {
    "id": "QTHic8jNvwPX"
   },
   "outputs": [],
   "source": [
    "### TO DO 7 : Downscale โดยการตัด row และ column ของภาพออกไปแบบ แถวเว้นแถว และ คอมลัมน์เว้นคอลัมน์\n",
    "\n",
    "def resize_half_cut(img):\n",
    "  \n",
    "    ### CODE HERE #########################################################################\n",
    "    resize_img = img[::2, ::2]\n",
    "    \n",
    "    #######################################################################################\n",
    "    return resize_img"
   ]
  },
  {
   "cell_type": "code",
   "execution_count": null,
   "metadata": {
    "id": "DCOfZjblKIdf"
   },
   "outputs": [],
   "source": [
    "print(\"Original size \",img_gray_w_const.shape)\n",
    "plt.figure(num=None, figsize=(10, 8))\n",
    "plt.axis('off')\n",
    "plt.imshow(img_gray_w_const, cmap=plt.get_cmap('gray'))\n",
    "plt.show()\n",
    "\n",
    "resize_img_cut = resize_half_cut(img_gray_w_const)\n",
    "\n",
    "print(\"Downscale 50% : \",resize_img_cut.shape)\n",
    "plt.figure(num=None, figsize=(5, 4))\n",
    "plt.axis('off')\n",
    "plt.imshow(resize_img_cut, cmap=plt.get_cmap('gray'))\n",
    "plt.show()"
   ]
  },
  {
   "cell_type": "code",
   "execution_count": null,
   "metadata": {
    "id": "QbCcywlXTWK9"
   },
   "outputs": [],
   "source": [
    "### TO DO 8 : ทำการ interpolation โดยการใช้ filter ขนาด [[0.25, 0.25][0.25,0.25]] ##############\n",
    "# Recommend : ใช้ library convolve2d จากด้านบนในการทำ convolute #################################\n",
    "# Hint : เลือกเอาเฉพาะ [:img.shape[0]:2,:img.shape[1]:2] จะได้ภาพขนาดครึ่งนึงหลังจาก convolve แล้ว\n",
    "def convolve_greyscale(im, window):\n",
    "    return convolve2d(im[:,:], window, mode=\"same\", boundary=\"symm\")\n",
    "\n",
    "\n",
    "def resize_half(img):\n",
    "  \n",
    "    ### CODE HERE #########################################################################\n",
    "    window = np.array([[0.25, 0.25],[0.25,0.25]])\n",
    "    resize_img = convolve2d(img[:,:], window, mode=\"same\", boundary=\"symm\")\n",
    "    #######################################################################################\n",
    "    return resize_img[:img.shape[0]:2,:img.shape[1]:2]"
   ]
  },
  {
   "cell_type": "code",
   "execution_count": null,
   "metadata": {
    "id": "-__JzqpjWtF3"
   },
   "outputs": [],
   "source": [
    "print(\"Original size \",img_gray_w_const.shape)\n",
    "plt.figure(num=None, figsize=(10, 8))\n",
    "plt.axis('off')\n",
    "plt.imshow(img_gray_w_const, cmap=plt.get_cmap('gray'))\n",
    "plt.show()\n",
    "\n",
    "resize_img = resize_half(img_gray_w_const)\n",
    "\n",
    "print(\"Downscale 50% : \",resize_img.shape)\n",
    "plt.figure(num=None, figsize=(5, 4))\n",
    "plt.axis('off')\n",
    "plt.imshow(resize_img, cmap=plt.get_cmap('gray'))\n",
    "plt.show()"
   ]
  },
  {
   "cell_type": "markdown",
   "metadata": {
    "id": "p9Vihlmar2To"
   },
   "source": [
    "### Scale-Up ( x 2 )\n",
    "\n",
    "เราจะทำการขยายภาพขึ้นเป็นสองเท่าโดยการเพิ่ม row และ column ขึ้นมาเป็น 2 เท่า"
   ]
  },
  {
   "cell_type": "code",
   "execution_count": null,
   "metadata": {
    "id": "pSNGZuLqdBfR"
   },
   "outputs": [],
   "source": [
    "### TO DO 9 : เพิ่มขนาดของภาพขึ้น 2 เท่าโดยการเพิ่มแต่ละ row และแต่ละ column ขึ้นเป็น 2 เท่า\n",
    "def scale_up_normal(img):\n",
    "  \n",
    "  ### CODE HERE #########################################################################\n",
    "  scale_up_img = np.ndarray((img.shape[0]*2, img.shape[1]*2, 3))\n",
    "  \n",
    "  scale_up_img[::2, ::2] = img\n",
    "  scale_up_img[::2, 1::2] = img\n",
    "  scale_up_img[1::2, ::2] = img\n",
    "  scale_up_img[1::2, 1::2] = img\n",
    "  ######################################################################################\n",
    "  return scale_up_img"
   ]
  },
  {
   "cell_type": "code",
   "execution_count": null,
   "metadata": {
    "id": "vTNzRDdxeKCx"
   },
   "outputs": [],
   "source": [
    "new_img = scale_up_normal(im)\n",
    "\n",
    "plt.figure(num=None, figsize=(10, 16))\n",
    "plt.subplot(211)\n",
    "plt.axis('off')\n",
    "plt.imshow(im[50:210,83:210,:])\n",
    "\n",
    "plt.figure(num=None, figsize=(20, 32))\n",
    "plt.subplot(212)\n",
    "plt.imshow(new_img[100:420,166:420,:]/255.0)\n",
    "plt.axis('off')\n",
    "plt.show()\n",
    "\n",
    "print(new_img.shape)"
   ]
  },
  {
   "cell_type": "code",
   "execution_count": null,
   "metadata": {
    "id": "emkYb_ojTW93"
   },
   "outputs": [],
   "source": [
    "### TO DO 10 : เพิ่มขนาดของภาพขึ้น 2 เท่าโดยการเพิ่ม row และ column ขึ้นเป็น 2 เท่าโดยการใช้ฟังก์ชัน numpy.repeat()\n",
    "### Hint : https://docs.scipy.org/doc/numpy-1.15.0/reference/generated/numpy.repeat.html\n",
    "\n",
    "def scale_up(img):\n",
    "  \n",
    "  ### CODE HERE ################################################################\n",
    "  scale_up_img  = np.repeat(np.repeat(img, 2, axis=1), 2, axis=0)\n",
    "\n",
    "  \n",
    "  ##############################################################################\n",
    "  return scale_up_img"
   ]
  },
  {
   "cell_type": "code",
   "execution_count": null,
   "metadata": {
    "id": "a2zXSKPCJ1fu"
   },
   "outputs": [],
   "source": [
    "plt.figure(num=None, figsize=(10, 16))\n",
    "plt.subplot(211)\n",
    "plt.axis('off')\n",
    "plt.imshow(im[50:210,83:210,:])\n",
    "\n",
    "plt.figure(num=None, figsize=(20, 32))\n",
    "plt.subplot(212)\n",
    "plt.imshow(scale_up(im)[100:420,166:420,:])\n",
    "plt.axis('off')\n",
    "plt.show()"
   ]
  },
  {
   "cell_type": "markdown",
   "metadata": {
    "id": "nNPwqEjfzVSD"
   },
   "source": [
    "## Find Distance : การหาระยะห่างระหว่างธนบัตร\n",
    "\n",
    "### Lab 1 : Demo on Ruler\n",
    "\n",
    "ไม้บรรทัดมีความยาว 15 cm และธนบัตรอยู่ติดขอบที่สเกล 0 cm และ 15 cm พอดี \n",
    "\n",
    "<img src=\"https://www.img.in.th/images/fc145de26aa2952ab19a91826a7e5fa2.png\" width=600>"
   ]
  },
  {
   "cell_type": "code",
   "execution_count": null,
   "metadata": {
    "id": "juU6ykfXx8aq"
   },
   "outputs": [],
   "source": [
    "### โหลดภาพเข้ามาและแสดงผลลัพธ์ของภาพนั้น\n",
    "\n",
    "demo_img = plt.imread(\"d_demo.jpg\")\n",
    "plt.figure(num=None, figsize=(10, 8))\n",
    "plt.imshow(demo_img)\n",
    "\n",
    "plt.show()"
   ]
  },
  {
   "cell_type": "markdown",
   "metadata": {
    "id": "ELCetHO-x8ar"
   },
   "source": [
    "#### Crop Ruler\n",
    "ครอบภาพโดยเอาเฉพาะธนบัตรดังตัวอย่างด้านล่าง\n",
    "\n",
    "<img src=\"https://www.img.in.th/images/0072ff20975e60d07c0c4d659fc3dba6.png\" width=\"600\">"
   ]
  },
  {
   "cell_type": "code",
   "execution_count": null,
   "metadata": {
    "id": "-mcuJdKUx8at"
   },
   "outputs": [],
   "source": [
    "### TO DO 11-1 : เนื่องจากธนบัตรอยู่บริเวณขอบของไม้บรรทัดพอดีขอบ 0 และ 15 \n",
    "###              จง CROP ภาพบริเวณพื้นที่ว่างซ้ายและขวาออก ให้ธนบัตรติดขอบรูปดังภาพด้านบน\n",
    "\n",
    "#### CODE HERE : CROP IMAGE ###################################################\n",
    "\n",
    "demo_img_crop = demo_img[:, 1050:4300, :]\n",
    "\n",
    "###############################################################################\n",
    "\n",
    "plt.figure(num=None, figsize=(10,8))\n",
    "plt.imshow(demo_img_crop)\n",
    "plt.show()"
   ]
  },
  {
   "cell_type": "markdown",
   "metadata": {
    "id": "C5-wJ1gkx8au"
   },
   "source": [
    "#### Convert to Greyscale\n",
    "\n",
    "แปลงภาพให้เป็น Greyscale จะทำให้ง่ายต่อการคำนวนระยะห่าง\n",
    "\n",
    "\n",
    "<img src=\"https://www.img.in.th/images/8d98d8f9e4378cb627a5e95b51299a8a.png\" width=\"600\">"
   ]
  },
  {
   "cell_type": "code",
   "execution_count": null,
   "metadata": {
    "id": "aP8UaNaex8au"
   },
   "outputs": [],
   "source": [
    "### TO DO 11-2 : แปลงภาพ RGB (ภาพสี) ให้เป็นภาพ GREYSCALE ด้วยฟังก์ชันที่เคยสร้างมา\n",
    "\n",
    "#### CODE HERE : GREYSCALE #################################################\n",
    "demo_img_grey = to_grayscale_avg(demo_img_crop)\n",
    "\n",
    "############################################################################\n",
    "\n",
    "plt.figure(num=None, figsize=(10,8))\n",
    "plt.axis(\"off\")\n",
    "plt.imshow(demo_img_grey, cmap=plt.get_cmap('gray'))\n",
    "plt.show()"
   ]
  },
  {
   "cell_type": "markdown",
   "metadata": {
    "id": "rSR6jAMB3igg"
   },
   "source": [
    "รวมค่าสีในแนวตั้งจากนั้น plot กราฟค่าสีดังจะได้หน้าตาดังภาพภาพ\n",
    "\n",
    "<img src=\"https://www.img.in.th/images/daef9ed1b4001e20fb285c2b8dcc320b.png\" width=\"600\">"
   ]
  },
  {
   "cell_type": "code",
   "execution_count": null,
   "metadata": {
    "id": "JRs5T-fBx8a1"
   },
   "outputs": [],
   "source": [
    "### TO DO 11-3 : หาผลรวมของสีในภาพตามแนวแกนตั้ง (axis=0) เพื่อใช้ในการวิเคราะห์ระยะทาง\n",
    "\n",
    "### CODE HERE : CALCULATE COLOR VALUE #########################################\n",
    "demo_sum = np.sum(demo_img_grey, axis=0)\n",
    "\n",
    "##############################################################################\n",
    "\n",
    "plt.figure(num=None, figsize=(10,8))\n",
    "plt.plot(np.arange(len(demo_sum)),demo_sum)"
   ]
  },
  {
   "cell_type": "code",
   "execution_count": null,
   "metadata": {
    "id": "FoED3hrwx8a3"
   },
   "outputs": [],
   "source": [
    "# แสดงความกว้างในแนวนอนของภาพในหน่วย pixels\n",
    "\n",
    "print('ภาพกว้าง' , demo_img_grey.shape[1])"
   ]
  },
  {
   "cell_type": "code",
   "execution_count": null,
   "metadata": {
    "id": "bvxtZAEO-diZ"
   },
   "outputs": [],
   "source": [
    "### TO DO 11-4 : หาคำตอบว่าระยะห่างของธนบัตรเป็นเท่าใด จากกราฟที่สร้างขึ้นมา\n",
    "### Hint : เรารุ้ว่าความกว้างของภาพจะยาวเท่ากับไม้บรรทัด ถ้าหาว่าวัตถุห่างกันกี่ pixel ก็แปลงกลับมาเป็น cm ได้\n",
    "\n",
    "\n",
    "zero_demo_sum = demo_sum - np.amin(demo_sum)\n",
    "max_sum = np.amax(zero_demo_sum)\n",
    "\n",
    "left, right = 0, 0\n",
    "findleft, findright = False, False\n",
    "for i in range(len(zero_demo_sum)):\n",
    "    if zero_demo_sum[i] < max_sum*0.25:\n",
    "        findleft = True\n",
    "    if zero_demo_sum[i] > max_sum*0.75 and findleft:\n",
    "        left = i\n",
    "        break\n",
    "for i in range(len(zero_demo_sum)-1,0,-1):\n",
    "    if zero_demo_sum[i] < max_sum*0.25:\n",
    "        findright = True\n",
    "    if zero_demo_sum[i] > max_sum*0.75 and findright:\n",
    "        right = i\n",
    "        break\n",
    "print(15/demo_img_grey.shape[1]*(right-left))\n"
   ]
  },
  {
   "cell_type": "markdown",
   "metadata": {
    "id": "Xmxov3Vtx8a7"
   },
   "source": [
    "ภาพกว้าง      3250 pixels           \n",
    "\n",
    "ไม้บรรทัดยาว  15 cm\n",
    "\n",
    "ธนบัตรห่างกัน 2415(ค่า max) - 902(ค่า min) = 1513 pixels  \n",
    "\n",
    "ความยาวบนไม้บรรทัด =  (15*1513)/3250 = 6.98 cm (ของจริง ~ 7.0 cm)"
   ]
  },
  {
   "cell_type": "markdown",
   "metadata": {
    "id": "yBycMqXWx8a9"
   },
   "source": [
    "### Lab 2 : Universal distance measurement\n"
   ]
  },
  {
   "cell_type": "code",
   "execution_count": null,
   "metadata": {
    "id": "rrjXAl1nx8bd"
   },
   "outputs": [],
   "source": [
    "### TO DO 12 : เขียนฟังก์ชันคำนวนระยะของธนบัตรสำหรับภาพใดๆ โดยข้อมูลที่จะใช้จะเป็นอีกชุดนึงที่ถ่ายด้วยกล้องตำแหน่งเดียวกันหมด\n",
    "### ผลลัพธ์ของฟังก์ชันจะ return ระยะห่างของธนบัตรในหน่วย cm\n",
    "\n",
    "def get_distance(img_name):\n",
    "  \n",
    "  ### CODE HERE ################################################################\n",
    "    this_img = plt.imread(img_name)\n",
    "    demo_img_crop = this_img[:, 1050:4300, :]\n",
    "    demo_img_grey = to_grayscale_avg(demo_img_crop)\n",
    "    demo_sum = np.sum(demo_img_grey, axis=0)\n",
    "    zero_demo_sum = demo_sum - np.amin(demo_sum)\n",
    "    max_sum = np.amax(zero_demo_sum)\n",
    "\n",
    "    left, right = 0, 0\n",
    "    findleft, findright = False, False\n",
    "    for i in range(len(zero_demo_sum)):\n",
    "        if zero_demo_sum[i] < max_sum*0.25:\n",
    "            findleft = True\n",
    "        if zero_demo_sum[i] > max_sum*0.75 and findleft:\n",
    "            left = i\n",
    "            break\n",
    "    for i in range(len(zero_demo_sum)-1,0,-1):\n",
    "        if zero_demo_sum[i] < max_sum*0.25:\n",
    "            findright = True\n",
    "        if zero_demo_sum[i] > max_sum*0.75 and findright:\n",
    "            right = i\n",
    "            break\n",
    "    obj_dis = 15/demo_img_grey.shape[1]*(right-left)\n",
    "\n",
    "\n",
    "  \n",
    "  ##############################################################################\n",
    "  \n",
    "    return obj_dis\n",
    "  "
   ]
  },
  {
   "cell_type": "code",
   "execution_count": null,
   "metadata": {
    "id": "L3jMQ3z59OB8"
   },
   "outputs": [],
   "source": [
    "def feed_img():\n",
    "  print(\"Lab_CV_1 distance = %.2f cm\" % get_distance(\"lab_cv_1.jpg\"))\n",
    "  print(\"Lab_CV_2 distance = %.2f cm\" % get_distance(\"lab_cv_2.jpg\"))\n",
    "  print(\"Lab_CV_2 distance = %.2f cm\" % get_distance(\"lab_cv_3.jpg\"))\n",
    "  \n",
    "feed_img()"
   ]
  },
  {
   "cell_type": "code",
   "execution_count": null,
   "metadata": {
    "id": "vXMGT4RxnpUJ"
   },
   "outputs": [],
   "source": []
  }
 ],
 "metadata": {
  "colab": {
   "collapsed_sections": [],
   "name": "Workshop_8_image_processing_with_numpy_student.ipynb",
   "provenance": []
  },
  "kernelspec": {
   "display_name": "Python 3.10.6 64-bit",
   "language": "python",
   "name": "python3"
  },
  "language_info": {
   "codemirror_mode": {
    "name": "ipython",
    "version": 3
   },
   "file_extension": ".py",
   "mimetype": "text/x-python",
   "name": "python",
   "nbconvert_exporter": "python",
   "pygments_lexer": "ipython3",
   "version": "3.10.6"
  },
  "vscode": {
   "interpreter": {
    "hash": "916dbcbb3f70747c44a77c7bcd40155683ae19c65e1c03b4aa3499c5328201f1"
   }
  }
 },
 "nbformat": 4,
 "nbformat_minor": 0
}
