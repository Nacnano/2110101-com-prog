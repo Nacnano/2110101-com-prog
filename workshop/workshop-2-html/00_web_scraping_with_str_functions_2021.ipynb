{
 "cells": [
  {
   "cell_type": "markdown",
   "metadata": {
    "id": "EsX9HcswkMhh"
   },
   "source": [
    "# Workshop 2.1 : web parsing with str functions\n",
    "We will crawl data from https://www.chula.ac.th/en/academics/faculties-and-schools/\n",
    "\n",
    "which is mirrored here https://comprogchula.github.io/\n",
    "\n",
    "<img src =\"https://github.com/Mixelon-tera/Workshop2_Datascraping_Resource/raw/master/source/intro_scraping.png\" width=\"800\">"
   ]
  },
  {
   "cell_type": "code",
   "execution_count": null,
   "metadata": {
    "id": "3pkX1wP3kMhi"
   },
   "outputs": [],
   "source": [
    "import urllib\n",
    "import urllib.request as urq\n",
    "import os\n",
    "\n",
    "dir_path = os.path.dirname(os.path.realpath(\"__file__\"))\n",
    "print(dir_path)"
   ]
  },
  {
   "cell_type": "markdown",
   "metadata": {
    "id": "F59BwNdMieQw"
   },
   "source": [
    "### Tip! \n",
    " \n",
    "#### สำหรับเรื่อง string ในภาษา python ต้องระวังเรื่อง escape character เรามักจะใช้เครื่องหมาย \\ นำหน้า escape character ดังนี้\n",
    "\n",
    "<img src=\"https://i2.wp.com/www.techpaste.com/wp-content/uploads/2014/06/Escape_Characters_Python.jpg?fit=441%2C425&ssl=1\" width=400>"
   ]
  },
  {
   "cell_type": "markdown",
   "metadata": {
    "id": "9a5vdLTmkMhl"
   },
   "source": [
    "# TO DO 1 : Crawl \"Faculty Name\" [only 19 faculties] (1%)"
   ]
  },
  {
   "cell_type": "markdown",
   "metadata": {
    "id": "UGZp9qD8kMhm"
   },
   "source": [
    "Print all Faculty name in Chulalongkorn University\n",
    "and print Number of Faculties like below image\n",
    "\n",
    "<img src=\"https://github.com/Mixelon-tera/Workshop2_Datascraping_Resource/raw/master/source/fac_name.png\" width=300>\n",
    "\n",
    "<img src=\"https://github.com/Mixelon-tera/Workshop2_Datascraping_Resource/raw/master/source/number_faculty.png\" width=300>"
   ]
  },
  {
   "cell_type": "code",
   "execution_count": null,
   "metadata": {
    "id": "tF2I-cQFkMhn"
   },
   "outputs": [],
   "source": [
    "### บางเว็บไซต์เราไม่สามารถใช้ urlopen ได้ตรงๆ เนื่องจากเว็บมีการป้องกันไว้ วิธีการแก้เบื้องต้นคือการใส่ header เพื่อหลอกเว็บไซต์ว่าเรากำลังใช้เว็บในการ request ข้อมูลเพจ ###\n",
    "### แต่ในการบ้านวันนี้เราสามารถใส่ url ลงใน urlopen ได้ตรงๆเลย เพราะเว็บไม่ได้มีการป้องกันไว้ ###\n",
    "\n",
    "url = 'https://comprogchula.github.io/'\n",
    "html = str(urq.urlopen(url).read().decode('utf-8'))\n",
    "\n",
    "# ---- TO DO 1 : Code Here ----\n",
    "faculties = []\n",
    "for line in html.split(\"\\n\"):\n",
    "    if line.find(\"Faculty of\") != -1 and line.find(\"href\") != -1:\n",
    "        faculties.append(line[line.find(\"Faculty of\"):line.find(\"</a>\")])\n",
    "\n",
    "for faculty in faculties:\n",
    "    print(faculty)\n",
    "print(\"Number of Faculties :\", len(faculties))\n",
    "\n"
   ]
  },
  {
   "cell_type": "markdown",
   "metadata": {
    "id": "4J3G2YYEkMhq"
   },
   "source": [
    "# TO DO 2 : Crawl \"Faculty and Schools Image\" [21 faculties and schools] (1%)\n",
    "\n",
    "Print image's url and save image into folder 'faculty_image'\n",
    "\n",
    "#### Hint : save images into -> dir_path+\"/faculty_image\"+faculty_name\n",
    "\n",
    "<img src=\"https://github.com/pjumruspun/ComProg2021-Workshop/blob/main/Workshop-02-Scraping/images.png?raw=true\" width=600>\n",
    "\n",
    "<img src=\"https://github.com/pjumruspun/ComProg2021-Workshop/blob/main/Workshop-02-Scraping/images_dir.png?raw=true\" width=600>"
   ]
  },
  {
   "cell_type": "code",
   "execution_count": null,
   "metadata": {
    "id": "z7XGFlJ972N3"
   },
   "outputs": [],
   "source": [
    "#สร้าง folder ชื่อ faculty_image\n",
    "\n",
    "!mkdir -p faculty_image"
   ]
  },
  {
   "cell_type": "markdown",
   "metadata": {
    "id": "6egHZ54tTMX2"
   },
   "source": [
    "### ขั้นตอนการอ่านและบันทึกไฟล์ภาพ\n",
    "\n",
    "1. อ่านภาพจากลิงค์\n",
    "* d = url.urlopen( [ลิงค์ของภาพ] )\n",
    "---\n",
    "2. สร้างไฟล์พร้อมระบุตำแหน่งที่จะเก็บไฟล์ภาพ \n",
    "* l = open( [ระบุตำแหน่งที่จะเก็บภาพ] )\n",
    "---\n",
    "\n",
    "3. บันทึกข้อมูลภาพไปยังตำแหน่งที่เก็บไฟล์ตามที่ระบุไว้ในข้อ (2.)\n",
    "* l.write(d.read())\n",
    "---\n",
    "\n",
    "4. ปิดไฟล์\n",
    "* l.close()\n",
    "---\n"
   ]
  },
  {
   "cell_type": "code",
   "execution_count": null,
   "metadata": {
    "id": "2JSrIjIHkMhq"
   },
   "outputs": [],
   "source": [
    "# ---- TO DO 2 : Code Here ----\n",
    "\n",
    "for line in html.split(\"\\n\"):\n",
    "    if line.find(\"data-src=\") != -1 and line.find(\"comprogchula\") != -1:\n",
    "        start_index = line.find('\"')+1\n",
    "        image_url = line[start_index:line.find('\"', start_index)]\n",
    "        downloaded_image = urq.urlopen(image_url)\n",
    "        faculty_name = image_url[image_url.find(\"image/\")+6:image_url.find(\"-hero\")]\n",
    "        image_file = open(dir_path+\"/faculty_image/\"+faculty_name+\".jpg\", \"wb\")\n",
    "        image_file.write(downloaded_image.read())\n",
    "        image_file.close()"
   ]
  },
  {
   "cell_type": "markdown",
   "metadata": {
    "id": "wu9Lq8EYm_4O"
   },
   "source": [
    "# TO DO 3 : Crawl \"Faculty Telephone Number\" [19 Faculties] (1%)\n",
    "\n",
    "Print Tel. of each faculty in Chulalongkorn University\n",
    "\n",
    "*** Only Faculty ***\n",
    "\n",
    "<img src=\"https://github.com/pjumruspun/ComProg2021-Workshop/blob/main/Workshop-02-Scraping/tel.png?raw=true\" width=450>"
   ]
  },
  {
   "cell_type": "code",
   "execution_count": null,
   "metadata": {
    "id": "7CUSb9KvkMht"
   },
   "outputs": [],
   "source": [
    "# ---- TO DO 3 : Code Here ----\n",
    "result_list = []\n",
    "for line in html.split(\"\\n\"):\n",
    "    if line.find('<a href=\"https://comprogchula.github.io/') != -1 and line.find(\"h3 class\") == -1 and line.find(\"faculty\") != -1:\n",
    "        faculty_url = line[line.find(\"https\"):line.find(\".html\")+5]\n",
    "        faculty_name = faculty_url[faculty_url.find(\".io\")+4:faculty_url.find(\".html\")]\n",
    "        faculty_html = str(urq.urlopen(faculty_url).read().decode('utf-8'))\n",
    "        phone_number_list = []\n",
    "        for faculty_line in faculty_html.split(\"\\n\"):\n",
    "            start_index = faculty_line.find(\"Tel:</strong>\")\n",
    "            if start_index != -1:\n",
    "                telephone_number = faculty_line[start_index+13:faculty_line.find(\"<\", start_index+13)]\n",
    "                telephone_number = telephone_number.replace(\"+66\", \"0\")\n",
    "                if telephone_number != '':\n",
    "                    phone_number_list.append(telephone_number.strip())\n",
    "        result_list.append((faculty_name, phone_number_list))\n",
    "\n",
    "for faculty_name, phone_number_list in result_list:\n",
    "    print(faculty_name)\n",
    "    for i in range(len(phone_number_list)-1):\n",
    "        print(phone_number_list[i], end=\",\")\n",
    "    print(phone_number_list[-1])\n",
    "\n",
    "print(\"Number of Faculty:\", len(result_list))"
   ]
  },
  {
   "cell_type": "markdown",
   "metadata": {
    "id": "O6qXu-BSkMhv"
   },
   "source": [
    "# TO DO 4: Crawl faculty of CP (1%)\n",
    "\n",
    "Current Faculty Members and Retired Faculty Members\n",
    "\n",
    "from https://www.cp.eng.chula.ac.th/en/about/faculty/\n",
    "\n",
    "*** Crawl only active members that have image ***\n",
    "\n",
    "**hint:** There are multiple strategies. To make it simple, we also accept a solution that list Dr. PITCHAYA as well. Another way is to check whether the image is the same filecmp.cmp https://docs.python.org/3/library/filecmp.html can do this. Or you can use if statements to exclude known exceptions.\n",
    "\n",
    "<img src=\"https://drive.google.com/uc?export=view&id=1MlAf9hyVJeZZVfUMFiMMJlN7Ip3sfrsS\">"
   ]
  },
  {
   "cell_type": "code",
   "execution_count": null,
   "metadata": {
    "id": "DSh-mDUckMhw"
   },
   "outputs": [],
   "source": [
    "# ---- TO DO 4 : Code Here ----\n",
    "\n",
    "cp_url = \"https://www.cp.eng.chula.ac.th/en/about/faculty/\"\n",
    "cp_html = str(urq.urlopen(cp_url).read().decode('utf-8'))\n",
    "\n",
    "members = [[],[]]\n",
    "is_retired = 0\n",
    "target_name = \"xxxxxxxxxxxxx\"\n",
    "for line in cp_html.split(\"\\n\"):\n",
    "    if line.find(\"<h3>Retired Faculty Members</h3>\") != -1:\n",
    "        is_retired = 1\n",
    "\n",
    "    if line.find(target_name) != -1 and line.find(\"<p>\") != -1:\n",
    "        name = line[line.find(\"<p>\")+3:line.find(\"</\")].strip()\n",
    "        members[is_retired].append(name)\n",
    "    if line.find('src=\"http://mis.cp.eng.chula.ac.th/view.php?q=instructor/') != -1 and line.find('alt=\" \"') == -1:\n",
    "        target_name = line[line.find('alt=\"')+5:line.find('\" style')]\n",
    "\n",
    "print(\"Current Faculty Members\\n\")\n",
    "for member in members[0]:\n",
    "    print(member)\n",
    "\n",
    "print(\"\\nRetired Faculty Members\\n\")\n",
    "for member in members[1]:\n",
    "    print(member)"
   ]
  },
  {
   "cell_type": "markdown",
   "metadata": {
    "id": "fmL5uX5RWp2f"
   },
   "source": [
    "# Optional\n",
    "\n",
    "ทดลองดึงข้อมูลจาก dek-d.com ดูสิ :)"
   ]
  },
  {
   "cell_type": "code",
   "execution_count": null,
   "metadata": {
    "id": "6r8NQmAYkMhy"
   },
   "outputs": [],
   "source": [
    "dd_url = 'https://www.dek-d.com/home/writer/'"
   ]
  },
  {
   "cell_type": "markdown",
   "metadata": {
    "id": "kAFkUJU0YCaF"
   },
   "source": [
    "ลองรันโค๊ดบรรทัดด้านล่างดู"
   ]
  },
  {
   "cell_type": "code",
   "execution_count": null,
   "metadata": {
    "id": "GVrU9jG0XjvF"
   },
   "outputs": [],
   "source": [
    "html = str(urq.urlopen(dd_url).read().decode('utf-8'))"
   ]
  },
  {
   "cell_type": "markdown",
   "metadata": {
    "id": "O9G_ZbZsYMUh"
   },
   "source": [
    "จะพบว่าเกิด error ขึ้นเนื่องจากเว็บ dek-d มีการป้องกันไว้ \n",
    "\n",
    "หากเราต้อง scrape จะต้องส่ง user-agent เช่น Web-browser, Accept-Charset, Accept-Encoding เป็นต้น เพื่อหลอกเว็บไซต์ว่าเรากำลังใช้เว็บในการ request ข้อมูลเพจ"
   ]
  },
  {
   "cell_type": "code",
   "execution_count": null,
   "metadata": {
    "id": "WeVk4zsWZLZ0"
   },
   "outputs": [],
   "source": [
    "headers={'User-Agent': 'Mozilla/5.0 (Windows; U; Windows NT 5.1; en-US; rv:1.9.0.7) Gecko/2009021910 Firefox/3.0.7'} \n",
    "\n",
    "\n",
    "dd_request = urq.Request(dd_url,None,headers) \n",
    "dd_html = str(urq.urlopen(dd_request).read().decode('utf-8'))"
   ]
  },
  {
   "cell_type": "markdown",
   "metadata": {
    "id": "HNO0U9aYf0Id"
   },
   "source": [
    "ลองดึงข้อมูล title นิยายจากเว็บ https://www.dek-d.com/home/writer/ ดูสิ!!!\n",
    "\n",
    "\n",
    "#### ตัวอย่าง output \n",
    "\n",
    "<img src=\"https://github.com/Mixelon-tera/Workshop2_Datascraping_Resource/raw/master/source/dek_d_fiction.png\" width=400>"
   ]
  },
  {
   "cell_type": "code",
   "execution_count": null,
   "metadata": {
    "id": "OQjDoNJKXESX"
   },
   "outputs": [],
   "source": [
    "# ---- OPTIONAL : Code Here ----\n",
    "\n",
    "\n",
    "\n",
    "\n",
    "\n",
    "\n",
    "\n",
    "\n",
    "\n",
    "\n",
    "\n",
    "\n"
   ]
  },
  {
   "cell_type": "code",
   "execution_count": null,
   "metadata": {
    "id": "sGP98yANbpsl"
   },
   "outputs": [],
   "source": []
  }
 ],
 "metadata": {
  "colab": {
   "collapsed_sections": [],
   "name": "00_web_scraping_with_str_functions_2021.ipynb",
   "provenance": []
  },
  "kernelspec": {
   "display_name": "Python 3.10.4 64-bit",
   "language": "python",
   "name": "python3"
  },
  "language_info": {
   "codemirror_mode": {
    "name": "ipython",
    "version": 3
   },
   "file_extension": ".py",
   "mimetype": "text/x-python",
   "name": "python",
   "nbconvert_exporter": "python",
   "pygments_lexer": "ipython3",
   "version": "3.10.4"
  },
  "vscode": {
   "interpreter": {
    "hash": "916dbcbb3f70747c44a77c7bcd40155683ae19c65e1c03b4aa3499c5328201f1"
   }
  }
 },
 "nbformat": 4,
 "nbformat_minor": 0
}
